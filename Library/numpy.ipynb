{
 "cells": [
  {
   "cell_type": "code",
   "execution_count": 1,
   "id": "332f0d9e",
   "metadata": {},
   "outputs": [
    {
     "data": {
      "text/plain": [
       "'1.24.2'"
      ]
     },
     "execution_count": 1,
     "metadata": {},
     "output_type": "execute_result"
    }
   ],
   "source": [
    "import numpy as np\n",
    "np.__version__\n",
    "\n",
    "#1D,2D,3D,4D..."
   ]
  },
  {
   "cell_type": "code",
   "execution_count": 2,
   "id": "d29e877d",
   "metadata": {},
   "outputs": [
    {
     "name": "stdout",
     "output_type": "stream",
     "text": [
      "[1 2 3 4 5]\n",
      "<class 'numpy.ndarray'>\n",
      "[1 2 3 4 5]\n",
      "samika\n"
     ]
    }
   ],
   "source": [
    "lst=[1,2,3,4,5]\n",
    "ar1=np.array(lst)\n",
    "print(ar1)\n",
    "ar1\n",
    "print(type(ar1))\n",
    "\n",
    "\n",
    "p=(1,2,3,4,5)\n",
    "ar3=np.array(p)\n",
    "print(ar3)\n",
    "\n",
    "\n",
    "s=\"samika\"\n",
    "ar2=np.array(s)\n",
    "print(ar2)"
   ]
  },
  {
   "cell_type": "code",
   "execution_count": 3,
   "id": "56d95f97",
   "metadata": {},
   "outputs": [
    {
     "name": "stdout",
     "output_type": "stream",
     "text": [
      "[ 1  2  3  4  5  6  7  8  9 10 11 12 13 14 15 16 17 18 19]\n"
     ]
    }
   ],
   "source": [
    "print(np.arange(1,20,1))"
   ]
  },
  {
   "cell_type": "code",
   "execution_count": 4,
   "id": "c903c09a",
   "metadata": {},
   "outputs": [
    {
     "name": "stdout",
     "output_type": "stream",
     "text": [
      "[ 1.   4.8  8.6 12.4 16.2 20. ]\n"
     ]
    }
   ],
   "source": [
    "print(np.linspace(1,20,6))"
   ]
  },
  {
   "cell_type": "code",
   "execution_count": 5,
   "id": "a819f945",
   "metadata": {},
   "outputs": [
    {
     "name": "stdout",
     "output_type": "stream",
     "text": [
      "[1. 1. 1. 1. 1.]\n"
     ]
    }
   ],
   "source": [
    "print(np.ones(5))"
   ]
  },
  {
   "cell_type": "code",
   "execution_count": 6,
   "id": "858f1f1f",
   "metadata": {},
   "outputs": [
    {
     "name": "stdout",
     "output_type": "stream",
     "text": [
      "[0. 0. 0. 0. 0.]\n"
     ]
    }
   ],
   "source": [
    "print(np.zeros(5))"
   ]
  },
  {
   "cell_type": "code",
   "execution_count": 7,
   "id": "59718e68",
   "metadata": {},
   "outputs": [
    {
     "data": {
      "text/plain": [
       "array([[0., 0., 0., 0., 0.],\n",
       "       [0., 0., 0., 0., 0.],\n",
       "       [0., 0., 0., 0., 0.],\n",
       "       [0., 0., 0., 0., 0.]])"
      ]
     },
     "execution_count": 7,
     "metadata": {},
     "output_type": "execute_result"
    }
   ],
   "source": [
    "a=np.zeros((4,5))\n",
    "a"
   ]
  },
  {
   "cell_type": "code",
   "execution_count": 8,
   "id": "93c98078",
   "metadata": {},
   "outputs": [
    {
     "data": {
      "text/plain": [
       "array([[0., 0., 0., 0., 0., 0., 0., 0., 0., 0.],\n",
       "       [0., 0., 0., 0., 0., 0., 0., 0., 0., 0.]])"
      ]
     },
     "execution_count": 8,
     "metadata": {},
     "output_type": "execute_result"
    }
   ],
   "source": [
    "y=a.reshape(2,10)\n",
    "y"
   ]
  },
  {
   "cell_type": "code",
   "execution_count": 9,
   "id": "d10dc8da",
   "metadata": {},
   "outputs": [
    {
     "data": {
      "text/plain": [
       "array([0.98817236, 0.37620024, 0.78727812, 0.43853097, 0.6569261 ,\n",
       "       0.64439339, 0.1139339 , 0.73467441, 0.45264028, 0.44493385,\n",
       "       0.85502674, 0.9226376 , 0.20346525, 0.61825514, 0.49482637,\n",
       "       0.66624913, 0.82430957, 0.7949419 , 0.76880369, 0.8690855 ,\n",
       "       0.2739958 , 0.50508123, 0.76211522, 0.03322657, 0.55227334])"
      ]
     },
     "execution_count": 9,
     "metadata": {},
     "output_type": "execute_result"
    }
   ],
   "source": [
    "arr7=np.random.random(25)\n",
    "arr7"
   ]
  },
  {
   "cell_type": "code",
   "execution_count": 21,
   "id": "ffd6ba94",
   "metadata": {},
   "outputs": [
    {
     "name": "stdout",
     "output_type": "stream",
     "text": [
      "[[ 50  51  52  53  54  55  56  57  58  59  60  61  62  63  64  65  66  67\n",
      "   68  69  70  71  72  73  74  75  76  77  78  79]\n",
      " [ 80  81  82  83  84  85  86  87  88  89  90  91  92  93  94  95  96  97\n",
      "   98  99 100 101 102 103 104 105 106 107 108 109]]\n",
      "(2, 30)\n",
      "int32\n",
      "2\n"
     ]
    }
   ],
   "source": [
    "ar4=np.arange(50,110)\n",
    "arn=ar4.reshape(2,30)\n",
    "\n",
    "print(arn)\n",
    "print(arn.shape)\n",
    "\n",
    "print(arn.dtype)\n",
    "\n",
    "print(arn.ndim)\n",
    "\n",
    "ar5=np.random.random(25)"
   ]
  },
  {
   "cell_type": "code",
   "execution_count": 22,
   "id": "a0fc77d9",
   "metadata": {},
   "outputs": [
    {
     "data": {
      "text/plain": [
       "array([ 50,  51,  52,  53,  54,  55,  56,  57,  58,  59,  60,  61,  62,\n",
       "        63,  64,  65,  66,  67,  68,  69,  70,  71,  72,  73,  74,  75,\n",
       "        76,  77,  78,  79,  80,  81,  82,  83,  84,  85,  86,  87,  88,\n",
       "        89,  90,  91,  92,  93,  94,  95,  96,  97,  98,  99, 100, 101,\n",
       "       102, 103, 104, 105, 106, 107, 108, 109])"
      ]
     },
     "execution_count": 22,
     "metadata": {},
     "output_type": "execute_result"
    }
   ],
   "source": [
    "ar4.ravel()"
   ]
  },
  {
   "cell_type": "code",
   "execution_count": 23,
   "id": "77499bd3",
   "metadata": {},
   "outputs": [
    {
     "data": {
      "text/plain": [
       "array([ 50,  51,  52,  53,  54,  55,  56,  57,  58,  59,  60,  61,  62,\n",
       "        63,  64,  65,  66,  67,  68,  69,  70,  71,  72,  73,  74,  75,\n",
       "        76,  77,  78,  79,  80,  81,  82,  83,  84,  85,  86,  87,  88,\n",
       "        89,  90,  91,  92,  93,  94,  95,  96,  97,  98,  99, 100, 101,\n",
       "       102, 103, 104, 105, 106, 107, 108, 109])"
      ]
     },
     "execution_count": 23,
     "metadata": {},
     "output_type": "execute_result"
    }
   ],
   "source": [
    "ar4.flatten()"
   ]
  },
  {
   "cell_type": "code",
   "execution_count": 34,
   "id": "134bcdba",
   "metadata": {},
   "outputs": [
    {
     "name": "stdout",
     "output_type": "stream",
     "text": [
      "[[ 50  51  52]\n",
      " [ 53  54  55]\n",
      " [ 56  57  58]\n",
      " [ 59  60  61]\n",
      " [ 62  63  64]\n",
      " [ 65  66  67]\n",
      " [ 68  69  70]\n",
      " [ 71  72  73]\n",
      " [ 74  75  76]\n",
      " [ 77  78  79]\n",
      " [ 80  81  82]\n",
      " [ 83  84  85]\n",
      " [ 86  87  88]\n",
      " [ 89  90  91]\n",
      " [ 92  93  94]\n",
      " [ 95  96  97]\n",
      " [ 98  99 100]\n",
      " [101 102 103]\n",
      " [104 105 106]\n",
      " [107 108 109]]\n"
     ]
    }
   ],
   "source": [
    "u=ar4.reshape(20,3)\n",
    "print(u)"
   ]
  },
  {
   "cell_type": "code",
   "execution_count": 31,
   "id": "fa293380",
   "metadata": {},
   "outputs": [
    {
     "name": "stdout",
     "output_type": "stream",
     "text": [
      "(20, 3)\n",
      "(3, 20)\n"
     ]
    }
   ],
   "source": [
    "x=u.shape\n",
    "print(x)\n",
    "ar6=u.T.shape\n",
    "print(ar6)"
   ]
  },
  {
   "cell_type": "code",
   "execution_count": 33,
   "id": "d0b6d5ec",
   "metadata": {},
   "outputs": [
    {
     "name": "stdout",
     "output_type": "stream",
     "text": [
      "[6 8 9]\n",
      "[ 1  5  6 99  9  4  5]\n"
     ]
    }
   ],
   "source": [
    "#indexing and slicing\n",
    "#1D array: same as normal\n",
    "ar8=np.array([1,5,6,8,9,4,5])\n",
    "print(ar8[2:5])\n",
    "ar8[3]=99\n",
    "print(ar8)"
   ]
  },
  {
   "cell_type": "code",
   "execution_count": 42,
   "id": "6f4de87b",
   "metadata": {},
   "outputs": [
    {
     "name": "stdout",
     "output_type": "stream",
     "text": [
      "[[54]\n",
      " [57]]\n"
     ]
    }
   ],
   "source": [
    "#2D array\n",
    "print(u[1:3,1:2])"
   ]
  },
  {
   "cell_type": "code",
   "execution_count": null,
   "id": "7f3a7a30",
   "metadata": {},
   "outputs": [
    {
     "name": "stdout",
     "output_type": "stream",
     "text": [
      "[[ 50  51]\n",
      " [ 53  54]\n",
      " [ 56  57]\n",
      " [ 59  60]\n",
      " [ 62  63]\n",
      " [ 65  66]\n",
      " [ 68  69]\n",
      " [ 71  72]\n",
      " [ 74  75]\n",
      " [ 77  78]\n",
      " [ 80  81]\n",
      " [ 83  84]\n",
      " [ 86  87]\n",
      " [ 89  90]\n",
      " [ 92  93]\n",
      " [ 95  96]\n",
      " [ 98  99]\n",
      " [101 102]\n",
      " [104 105]\n",
      " [107 108]]\n"
     ]
    },
    {
     "data": {
      "text/plain": [
       "array([[50]])"
      ]
     },
     "execution_count": 43,
     "metadata": {},
     "output_type": "execute_result"
    }
   ],
   "source": [
    "print(u[:,:2])\n"
   ]
  },
  {
   "cell_type": "code",
   "execution_count": 56,
   "id": "d7e0c1b1",
   "metadata": {},
   "outputs": [
    {
     "name": "stdout",
     "output_type": "stream",
     "text": [
      "50\n",
      "<class 'numpy.int32'>\n"
     ]
    }
   ],
   "source": [
    "print(u[0:1,0:1][0][0])\n",
    "print(type(u[0:1,0:1][0][0]))"
   ]
  },
  {
   "cell_type": "code",
   "execution_count": 62,
   "id": "860d399a",
   "metadata": {},
   "outputs": [
    {
     "name": "stdout",
     "output_type": "stream",
     "text": [
      "[[ 52  51  50]\n",
      " [ 55  54  53]\n",
      " [ 58  57  56]\n",
      " [ 61  60  59]\n",
      " [ 64  63  62]\n",
      " [ 67  66  65]\n",
      " [ 70  69  68]\n",
      " [ 73  72  71]\n",
      " [ 76  75  74]\n",
      " [ 79  78  77]\n",
      " [ 82  81  80]\n",
      " [ 85  84  83]\n",
      " [ 88  87  86]\n",
      " [ 91  90  89]\n",
      " [ 94  93  92]\n",
      " [ 97  96  95]\n",
      " [100  99  98]\n",
      " [103 102 101]\n",
      " [106 105 104]\n",
      " [109 108 107]]\n"
     ]
    }
   ],
   "source": [
    "#print(u[::-1])\n",
    "print(u[:,::-1])\n"
   ]
  },
  {
   "cell_type": "code",
   "execution_count": 69,
   "id": "2a19f386",
   "metadata": {},
   "outputs": [
    {
     "name": "stdout",
     "output_type": "stream",
     "text": [
      "[[16 18 20 22]\n",
      " [24 26 28 30]\n",
      " [32 34 36 38]\n",
      " [40 42 44 46]]\n"
     ]
    }
   ],
   "source": [
    "ar9=np.arange(32).reshape(2,4,4)\n",
    "#print(ar9)\n",
    "print(np.sum(ar9,axis=0))"
   ]
  },
  {
   "cell_type": "code",
   "execution_count": 74,
   "id": "fadb4dde",
   "metadata": {},
   "outputs": [
    {
     "name": "stdout",
     "output_type": "stream",
     "text": [
      "[[[ 1  2  3]\n",
      "  [ 4  5  6]\n",
      "  [98  5  4]]\n",
      "\n",
      " [[58  9  6]\n",
      "  [ 8  9  6]\n",
      "  [52  2  6]]\n",
      "\n",
      " [[85  2  6]\n",
      "  [ 5  4  8]\n",
      "  [ 9  7  6]]]\n"
     ]
    }
   ],
   "source": [
    "x=np.array([1,2,3,4,5,6,98,5,4,58,9,6,8,9,6,52,2,6,85,2,6,5,4,8,9,7,6])\n",
    "x.shape=((3,3,3))\n",
    "print(x)"
   ]
  },
  {
   "cell_type": "code",
   "execution_count": 78,
   "id": "8a33b4b0",
   "metadata": {},
   "outputs": [
    {
     "name": "stdout",
     "output_type": "stream",
     "text": [
      "8\n"
     ]
    }
   ],
   "source": [
    "#slicing in 3D array\n",
    "#suntax:\n",
    "#[table start:table end:table skip,row start:row end:row skip,col start:col end:col skip]\n",
    "o=x[1:2,1:2,0:1]\n",
    "print(o[0][0][0])"
   ]
  },
  {
   "cell_type": "code",
   "execution_count": 99,
   "id": "64b6770a",
   "metadata": {},
   "outputs": [
    {
     "name": "stdout",
     "output_type": "stream",
     "text": [
      "8\n",
      "1\n",
      "2.1758618981911515\n",
      "35\n",
      "4.375\n",
      "4.5\n",
      "[1 2 3 4 5 6 6 8]\n",
      "\n",
      "\n",
      "[8 6 6 5 4 3 2 1]\n"
     ]
    }
   ],
   "source": [
    "j=[1,2,3,5,6,4,8,6]\n",
    "print(np.max(j))\n",
    "print(np.min(j))\n",
    "print(np.std(j))\n",
    "print(np.sum(j))\n",
    "print(np.mean(j))\n",
    "print(np.median(j))\n",
    "print(np.sort(j))\n",
    "print(\"\\n\")\n",
    "print(np.sort(j)[::-1])\n"
   ]
  },
  {
   "cell_type": "code",
   "execution_count": 104,
   "id": "aec26321",
   "metadata": {},
   "outputs": [
    {
     "name": "stdout",
     "output_type": "stream",
     "text": [
      "[ 9 12  6 18 25]\n",
      "[ 6 12 18 36 30]\n"
     ]
    }
   ],
   "source": [
    "ar10=np.array([1,2,3,6,5])\n",
    "ar11=np.array([9,6,2,3,5])\n",
    "print(ar10*ar11)\n",
    "print(ar10*6)"
   ]
  },
  {
   "cell_type": "code",
   "execution_count": null,
   "id": "9d8868e8",
   "metadata": {},
   "outputs": [],
   "source": []
  }
 ],
 "metadata": {
  "kernelspec": {
   "display_name": "Python 3",
   "language": "python",
   "name": "python3"
  },
  "language_info": {
   "codemirror_mode": {
    "name": "ipython",
    "version": 3
   },
   "file_extension": ".py",
   "mimetype": "text/x-python",
   "name": "python",
   "nbconvert_exporter": "python",
   "pygments_lexer": "ipython3",
   "version": "3.11.1"
  }
 },
 "nbformat": 4,
 "nbformat_minor": 5
}

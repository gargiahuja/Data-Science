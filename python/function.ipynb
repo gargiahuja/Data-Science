{
 "cells": [
  {
   "cell_type": "code",
   "execution_count": 1,
   "id": "0cf5c2a6",
   "metadata": {},
   "outputs": [
    {
     "name": "stdout",
     "output_type": "stream",
     "text": [
      "Hello\n"
     ]
    }
   ],
   "source": [
    "def hello():\n",
    "    print(\"Hello\")\n",
    "\n",
    "hello()"
   ]
  },
  {
   "cell_type": "code",
   "execution_count": 2,
   "id": "eaa2b3aa",
   "metadata": {},
   "outputs": [
    {
     "name": "stdout",
     "output_type": "stream",
     "text": [
      "Hello\n"
     ]
    }
   ],
   "source": [
    "hello()"
   ]
  },
  {
   "cell_type": "code",
   "execution_count": 3,
   "id": "ad659cca",
   "metadata": {},
   "outputs": [],
   "source": [
    "def add(a,b):\n",
    "    print(a+b)"
   ]
  },
  {
   "cell_type": "code",
   "execution_count": 4,
   "id": "aee33a59",
   "metadata": {},
   "outputs": [
    {
     "name": "stdout",
     "output_type": "stream",
     "text": [
      "30\n"
     ]
    }
   ],
   "source": [
    "add(10,20)"
   ]
  },
  {
   "cell_type": "code",
   "execution_count": 5,
   "id": "ee72fa05",
   "metadata": {},
   "outputs": [
    {
     "name": "stdout",
     "output_type": "stream",
     "text": [
      "the youngest child is khushish\n"
     ]
    }
   ],
   "source": [
    "#jab nhi pta kitne arguments pass krne h toh arbitary argument use krte h *args\n",
    "def child(*kids):\n",
    "    print(\"the youngest child is \"+kids[2])\n",
    "\n",
    "kids=(\"gargi\",\"vidhi\",\"khushish\")\n",
    "child(\"gargi\",\"vidhi\",\"khushish\")"
   ]
  },
  {
   "cell_type": "code",
   "execution_count": 6,
   "id": "12073c1a",
   "metadata": {},
   "outputs": [
    {
     "name": "stdout",
     "output_type": "stream",
     "text": [
      "the youngest child is gargi\n"
     ]
    }
   ],
   "source": [
    "#arbitary keyword argumnet **args\n",
    "def child(**kids):\n",
    "    print(\"the youngest child is \"+kids[\"child3\"])\n",
    "\n",
    "child(child3=\"gargi\",child2=\"vidhi\",child1=\"khushish\")"
   ]
  },
  {
   "cell_type": "code",
   "execution_count": 7,
   "id": "4fe7e23e",
   "metadata": {},
   "outputs": [
    {
     "name": "stdout",
     "output_type": "stream",
     "text": [
      "my hobby is sleeping\n",
      "my hobby is cricket\n"
     ]
    }
   ],
   "source": [
    "#default parameter value\n",
    "def hobby(name=\"cricket\"):\n",
    "    print(\"my hobby is \"+name)\n",
    "hobby(\"sleeping\")\n",
    "hobby()"
   ]
  },
  {
   "cell_type": "code",
   "execution_count": 8,
   "id": "6cb217b2",
   "metadata": {},
   "outputs": [
    {
     "name": "stdout",
     "output_type": "stream",
     "text": [
      "gargi\n",
      "vidhi\n",
      "khushish\n"
     ]
    }
   ],
   "source": [
    "#passing list\n",
    "def listt(name):\n",
    "    for i in name:\n",
    "        print(i)\n",
    "name=(\"gargi\",\"vidhi\",\"khushish\")\n",
    "listt(name)"
   ]
  },
  {
   "cell_type": "code",
   "execution_count": 9,
   "id": "b82022c9",
   "metadata": {},
   "outputs": [],
   "source": [
    "def average(*a):\n",
    "    avg=0\n",
    "    j=0\n",
    "    for i in a:\n",
    "        j=j+1\n",
    "        avg=avg+i\n",
    "    avg=avg/j\n",
    "    return avg"
   ]
  },
  {
   "cell_type": "code",
   "execution_count": 10,
   "id": "9472a41b",
   "metadata": {},
   "outputs": [
    {
     "data": {
      "text/plain": [
       "2.0"
      ]
     },
     "execution_count": 10,
     "metadata": {},
     "output_type": "execute_result"
    }
   ],
   "source": [
    "average(1,2,3)"
   ]
  },
  {
   "cell_type": "code",
   "execution_count": 11,
   "id": "bbd027ff",
   "metadata": {},
   "outputs": [
    {
     "data": {
      "text/plain": [
       "'list ka sara code ek single line me likh dena\\n[expression/output for loop condition]\\n'"
      ]
     },
     "execution_count": 11,
     "metadata": {},
     "output_type": "execute_result"
    }
   ],
   "source": [
    "#list comprehension\n",
    "\"\"\"list ka sara code ek single line me likh dena\n",
    "[expression/output for loop condition]\n",
    "\"\"\"\n"
   ]
  },
  {
   "cell_type": "code",
   "execution_count": 12,
   "id": "ff390d11",
   "metadata": {},
   "outputs": [
    {
     "name": "stdout",
     "output_type": "stream",
     "text": [
      "['RED', 'BLUE', 'GREEN', 'BLACK']\n"
     ]
    }
   ],
   "source": [
    "lst=[\"red\",\"blue\",\"green\",\"black\"]\n",
    "newlist=[i.upper() for i in lst]\n",
    "print(newlist)"
   ]
  },
  {
   "cell_type": "code",
   "execution_count": 13,
   "id": "b9681764",
   "metadata": {},
   "outputs": [
    {
     "name": "stdout",
     "output_type": "stream",
     "text": [
      "[1, 4, 9, 16, 25]\n"
     ]
    }
   ],
   "source": [
    "lst=[1,2,3,4,5]\n",
    "newlist=[i*i for i in lst]\n",
    "print(newlist)"
   ]
  },
  {
   "cell_type": "code",
   "execution_count": 14,
   "id": "2f391f40",
   "metadata": {},
   "outputs": [
    {
     "name": "stdout",
     "output_type": "stream",
     "text": [
      "[4, 16]\n"
     ]
    }
   ],
   "source": [
    "lst=[1,2,3,4,5]\n",
    "newlist=[i*i for i in lst if i%2==0]\n",
    "print(newlist)"
   ]
  },
  {
   "cell_type": "code",
   "execution_count": 15,
   "id": "8a6397f8",
   "metadata": {},
   "outputs": [
    {
     "ename": "TypeError",
     "evalue": "list[0] is not a generic class",
     "output_type": "error",
     "traceback": [
      "\u001b[31m---------------------------------------------------------------------------\u001b[39m",
      "\u001b[31mTypeError\u001b[39m                                 Traceback (most recent call last)",
      "\u001b[36mCell\u001b[39m\u001b[36m \u001b[39m\u001b[32mIn[15]\u001b[39m\u001b[32m, line 2\u001b[39m\n\u001b[32m      1\u001b[39m lst=[\u001b[33m\"\u001b[39m\u001b[33mred\u001b[39m\u001b[33m\"\u001b[39m,\u001b[33m\"\u001b[39m\u001b[33mblue\u001b[39m\u001b[33m\"\u001b[39m,\u001b[33m\"\u001b[39m\u001b[33mgreen\u001b[39m\u001b[33m\"\u001b[39m,\u001b[33m\"\u001b[39m\u001b[33mblack\u001b[39m\u001b[33m\"\u001b[39m]\n\u001b[32m----> \u001b[39m\u001b[32m2\u001b[39m newlist=\u001b[43m[\u001b[49m\u001b[38;5;28;43mlist\u001b[39;49m\u001b[43m[\u001b[49m\u001b[43mi\u001b[49m\u001b[43m]\u001b[49m\u001b[43m[\u001b[49m\u001b[32;43m0\u001b[39;49m\u001b[43m]\u001b[49m\u001b[43m \u001b[49m\u001b[38;5;28;43;01mfor\u001b[39;49;00m\u001b[43m \u001b[49m\u001b[43mi\u001b[49m\u001b[43m \u001b[49m\u001b[38;5;129;43;01min\u001b[39;49;00m\u001b[43m \u001b[49m\u001b[38;5;28;43mrange\u001b[39;49m\u001b[43m(\u001b[49m\u001b[38;5;28;43mlen\u001b[39;49m\u001b[43m(\u001b[49m\u001b[43mlst\u001b[49m\u001b[43m)\u001b[49m\u001b[43m)\u001b[49m\u001b[43m]\u001b[49m\n\u001b[32m      3\u001b[39m \u001b[38;5;28mprint\u001b[39m(newlist)\n",
      "\u001b[36mCell\u001b[39m\u001b[36m \u001b[39m\u001b[32mIn[15]\u001b[39m\u001b[32m, line 2\u001b[39m, in \u001b[36m<listcomp>\u001b[39m\u001b[34m(.0)\u001b[39m\n\u001b[32m      1\u001b[39m lst=[\u001b[33m\"\u001b[39m\u001b[33mred\u001b[39m\u001b[33m\"\u001b[39m,\u001b[33m\"\u001b[39m\u001b[33mblue\u001b[39m\u001b[33m\"\u001b[39m,\u001b[33m\"\u001b[39m\u001b[33mgreen\u001b[39m\u001b[33m\"\u001b[39m,\u001b[33m\"\u001b[39m\u001b[33mblack\u001b[39m\u001b[33m\"\u001b[39m]\n\u001b[32m----> \u001b[39m\u001b[32m2\u001b[39m newlist=[\u001b[38;5;28;43mlist\u001b[39;49m\u001b[43m[\u001b[49m\u001b[43mi\u001b[49m\u001b[43m]\u001b[49m\u001b[43m[\u001b[49m\u001b[32;43m0\u001b[39;49m\u001b[43m]\u001b[49m \u001b[38;5;28;01mfor\u001b[39;00m i \u001b[38;5;129;01min\u001b[39;00m \u001b[38;5;28mrange\u001b[39m(\u001b[38;5;28mlen\u001b[39m(lst))]\n\u001b[32m      3\u001b[39m \u001b[38;5;28mprint\u001b[39m(newlist)\n",
      "\u001b[31mTypeError\u001b[39m: list[0] is not a generic class"
     ]
    }
   ],
   "source": [
    "lst=[\"red\",\"blue\",\"green\",\"black\"]\n",
    "newlist=[list[i][0] for i in range(len(lst))]\n",
    "print(newlist)"
   ]
  },
  {
   "cell_type": "code",
   "execution_count": null,
   "id": "932b358b",
   "metadata": {},
   "outputs": [
    {
     "name": "stdout",
     "output_type": "stream",
     "text": [
      "[1, 2, 3, 4, 5, 6, 7, 8, 9]\n"
     ]
    }
   ],
   "source": [
    "lst=[[1,2,3],[4,5,6],[7,8,9]]\n",
    "newlist=[lst[i][j] for i in range(len(lst)) for j in range(len(lst[i]))]\n",
    "print(newlist)"
   ]
  },
  {
   "cell_type": "code",
   "execution_count": null,
   "id": "a9c94728",
   "metadata": {},
   "outputs": [
    {
     "name": "stdout",
     "output_type": "stream",
     "text": [
      "15\n"
     ]
    }
   ],
   "source": [
    "#used to write single line code\n",
    "a=5\n",
    "b=10\n",
    "x=lambda a,b:a+b\n",
    "print(x(a,b))\n"
   ]
  },
  {
   "cell_type": "code",
   "execution_count": 16,
   "id": "ca125a19",
   "metadata": {},
   "outputs": [
    {
     "name": "stdout",
     "output_type": "stream",
     "text": [
      "[('Gargi', 1), ('Vidhi', 2), ('Khushish', 3)]\n"
     ]
    }
   ],
   "source": [
    "#zip function used to combine two or more iterables\n",
    "list1=[\"Gargi\",\"Vidhi\",\"Khushish\"]\n",
    "list2=[1,2,3]\n",
    "result=zip(list1,list2)\n",
    "print(list(result))"
   ]
  },
  {
   "cell_type": "code",
   "execution_count": 17,
   "id": "b3872594",
   "metadata": {},
   "outputs": [
    {
     "name": "stdout",
     "output_type": "stream",
     "text": [
      "[('Gargi', 1), ('Vidhi', 2)]\n"
     ]
    }
   ],
   "source": [
    "#zip function used to combine two or more iterables\n",
    "list1=[\"Gargi\",\"Vidhi\",\"Khushish\"]\n",
    "list2=[1,2]\n",
    "result=zip(list1,list2)\n",
    "print(list(result))"
   ]
  },
  {
   "cell_type": "code",
   "execution_count": 18,
   "id": "e04f15c1",
   "metadata": {},
   "outputs": [
    {
     "name": "stdout",
     "output_type": "stream",
     "text": [
      "['Gargi', 'Vidhi', 'Khushish']\n",
      "(1, 2, 3) ('Gargi', 'Vidhi', 'Khushish')\n"
     ]
    }
   ],
   "source": [
    "zipped=[('Gargi', 1), ('Vidhi', 2), ('Khushish', 3)]\n",
    "name,number=zip(*zipped)\n",
    "print(list(name))\n",
    "print(number,name)"
   ]
  },
  {
   "cell_type": "code",
   "execution_count": 19,
   "id": "69824c5e",
   "metadata": {},
   "outputs": [
    {
     "name": "stdout",
     "output_type": "stream",
     "text": [
      "[1, 4, 9, 16, 25]\n"
     ]
    }
   ],
   "source": [
    "#map (function,iteration)\n",
    "def sq(num):\n",
    "    return num*num\n",
    "lst=[1,2,3,4,5]\n",
    "result=map(sq,lst)\n",
    "print(list(result))"
   ]
  },
  {
   "cell_type": "code",
   "execution_count": 20,
   "id": "3def56ee",
   "metadata": {},
   "outputs": [
    {
     "name": "stdout",
     "output_type": "stream",
     "text": [
      "[2, 4]\n"
     ]
    }
   ],
   "source": [
    "#filter function-- filter(function,iterable)\n",
    "lst=[1,2,3,4,5]\n",
    "result=filter(lambda num:num%2==0,lst)\n",
    "print(list(result))"
   ]
  },
  {
   "cell_type": "code",
   "execution_count": 21,
   "id": "63a32127",
   "metadata": {},
   "outputs": [
    {
     "name": "stdout",
     "output_type": "stream",
     "text": [
      "15\n"
     ]
    }
   ],
   "source": [
    "#reduce function\n",
    "from functools import reduce\n",
    "lst=[1,2,3,4,5]\n",
    "result=reduce(lambda num1,num2:num1+num2,lst)\n",
    "print(result)"
   ]
  },
  {
   "cell_type": "code",
   "execution_count": 22,
   "id": "95ed096b",
   "metadata": {},
   "outputs": [
    {
     "name": "stdout",
     "output_type": "stream",
     "text": [
      "[(0, 'gargi'), (1, 'vidhi'), (2, 'khushish')]\n"
     ]
    }
   ],
   "source": [
    "#enumerate\n",
    "lst=[\"gargi\",\"vidhi\",\"khushish\"]\n",
    "result=enumerate(lst)\n",
    "print(list(result))"
   ]
  },
  {
   "cell_type": "code",
   "execution_count": 12,
   "id": "9da68e72",
   "metadata": {},
   "outputs": [
    {
     "name": "stdout",
     "output_type": "stream",
     "text": [
      "[(71, 'gargi'), (72, 'vidhi'), (73, 'khushish')]\n"
     ]
    }
   ],
   "source": [
    "#enumerate\n",
    "lst=[\"gargi\",\"vidhi\",\"khushish\"]\n",
    "result=enumerate(lst,start=71)\n",
    "print(list(result))"
   ]
  },
  {
   "cell_type": "code",
   "execution_count": null,
   "id": "a0933c3f",
   "metadata": {},
   "outputs": [],
   "source": []
  }
 ],
 "metadata": {
  "kernelspec": {
   "display_name": "Python 3",
   "language": "python",
   "name": "python3"
  },
  "language_info": {
   "codemirror_mode": {
    "name": "ipython",
    "version": 3
   },
   "file_extension": ".py",
   "mimetype": "text/x-python",
   "name": "python",
   "nbconvert_exporter": "python",
   "pygments_lexer": "ipython3",
   "version": "3.11.1"
  }
 },
 "nbformat": 4,
 "nbformat_minor": 5
}

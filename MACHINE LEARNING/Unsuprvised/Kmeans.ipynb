{
 "cells": [
  {
   "cell_type": "code",
   "execution_count": null,
   "id": "ca23d077",
   "metadata": {},
   "outputs": [],
   "source": [
    "'''\n",
    "Based on clustering\n",
    "unsupervised ki algorithm h\n",
    "centroid based algorithm\n",
    "Distance nikalte h: Eucledian distance,Manhatten distnce, Cosine Similarity\n",
    "\n",
    "steps:\n",
    "1.Select the number of clusters(k)\n",
    "2.select the K randomly\n",
    "    if K=2 toh humne do centroids le liye\n",
    "3.calculate distnce between the centroid an data point:distance matlab eucledian distance\n",
    "4.Recalculate the centroid(x1+x2)/2,(y1+y2)/2\n",
    "5.Repeate from the 3rd step\n",
    "k:number of centroid\n",
    "\n",
    "Intercluster distance: ek cluster k centroid se dusre cluster k data points ka distance\n",
    "Interacluster distance: same cluster k centroid se cluster k data points ka distance\n",
    "\n",
    "Optimal way to fine K(no of centroid):\n",
    "    Elbow method\n",
    "        Based on WCSS:Within cluster sum of square\n",
    "        WCSS=sum_(i=1->n)[dist(C_i,X_i)**2]\n",
    "        evaluates how well the clustering algorihtm has grouped the data points\n",
    "        WCC:also known as intertia\n",
    "        let k=1;WCSS nikal liye\n",
    "        pr jaise jaise k ki value badhti jayegi WCSS ki value kum hoti jayegi ek point aayega jab WCSS ki \n",
    "        value change nhi hogi zyada \n",
    "        agar K =3 h toh 3eeno ki alag alag WCSS value niklegi toh combine WCSS vlaue hogi teeno ki average\n",
    "        WCSS should be minimum\n",
    "\n",
    "        jiss point k baad humare WCSS me changes hone bnd hoajate h unhe bolte h optimal number of K\n",
    "\n",
    "\n",
    "MODEL EVALUATION TECHNIQUE\n",
    "\n",
    "-Dunn index: should be high(0 to inf)\n",
    "    WCSS try kr rha tha to minimize the distance (intra cluster distance)\n",
    "    agar interacluster diatance kum hora h toh inter badh rha h Kyoki WCSS ko inter se koi farak nhi padhta \n",
    "    Dunn index dono pe kaaam krta h both inter and intra \n",
    "    Dunn index zyada hona chahiye orr WCSS kum hona chahiye\n",
    "    inter cluster or intra cluster dono koo ek optimal point pe leke aata h\n",
    "    Dunn index high h iska matlab dono custer ek optimal distance pe honge\n",
    "    FORMULA:=DN:increase in min(intercluster dis)/dec in max (intracluster dis).\n",
    "\n",
    "\n",
    "'''\n"
   ]
  }
 ],
 "metadata": {
  "language_info": {
   "name": "python"
  }
 },
 "nbformat": 4,
 "nbformat_minor": 5
}

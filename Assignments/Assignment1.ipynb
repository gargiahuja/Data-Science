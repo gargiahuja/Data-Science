{
 "cells": [
  {
   "cell_type": "code",
   "execution_count": 2,
   "id": "6be52d88",
   "metadata": {},
   "outputs": [
    {
     "name": "stdout",
     "output_type": "stream",
     "text": [
      "Plain Maggie\n",
      "Massala Maggie\n",
      "Cheeze Maggie\n",
      "Aloo Sandwich\n",
      "Cheeze Sandwich\n",
      "Mumbai Sandwich\n",
      "\n",
      "\n",
      "Plain Maggie\n",
      "Tea\n",
      "Cheeze Maggie\n",
      "Aloo Sandwich\n",
      "Cheeze Sandwich\n",
      "Mumbai Sandwich\n",
      "Gargi\n",
      "8745 5412 6523 9856\n",
      "06/40\n"
     ]
    },
    {
     "ename": "TypeError",
     "evalue": "'tuple' object does not support item assignment",
     "output_type": "error",
     "traceback": [
      "\u001b[1;31m---------------------------------------------------------------------------\u001b[0m",
      "\u001b[1;31mTypeError\u001b[0m                                 Traceback (most recent call last)",
      "Cell \u001b[1;32mIn[2], line 22\u001b[0m\n\u001b[0;32m     20\u001b[0m \u001b[38;5;28;01mfor\u001b[39;00m i \u001b[38;5;129;01min\u001b[39;00m tup:\n\u001b[0;32m     21\u001b[0m     \u001b[38;5;28mprint\u001b[39m(i)\n\u001b[1;32m---> 22\u001b[0m \u001b[43mtup\u001b[49m\u001b[43m[\u001b[49m\u001b[38;5;241;43m0\u001b[39;49m\u001b[43m]\u001b[49m\u001b[38;5;241m=\u001b[39m\u001b[38;5;124m\"\u001b[39m\u001b[38;5;124mbhawna\u001b[39m\u001b[38;5;124m\"\u001b[39m\u001b[38;5;66;03m#it will give error because immutable\u001b[39;00m\n",
      "\u001b[1;31mTypeError\u001b[0m: 'tuple' object does not support item assignment"
     ]
    }
   ],
   "source": [
    "#1.\tHow do lists and tuples differ in terms of mutability and performance? When would you choose one over the other?\n",
    "'''\n",
    "Ans. Mutability: List= are mutable ie, they can be altered  \n",
    "                 tuples= are immutable ie, something that can not be changed or altered it remains constant\n",
    "Performance: list= slower due to dynamic nature and requires more memory\n",
    "             tuple= faster in performance and also requires less memory\n",
    "\n",
    "''' \n",
    "#list: menu of restaurant\n",
    "lst=[\"Plain Maggie\",\"Massala Maggie\",\"Cheeze Maggie\",\"Aloo Sandwich\",\"Cheeze Sandwich\",\"Mumbai Sandwich\"]\n",
    "for i in lst:\n",
    "    print(i)\n",
    "print(\"\\n\")\n",
    "lst[1]=\"Tea\"\n",
    "for i in lst:\n",
    "    print(i)\n",
    "\n",
    "#tuple: tuple of debit card credentials\n",
    "tup=(\"Gargi\",\"8745 5412 6523 9856\",\"06/40\")\n",
    "for i in tup:\n",
    "    print(i)\n",
    "tup[0]=\"bhawna\"#it will give error because immutable"
   ]
  },
  {
   "cell_type": "code",
   "execution_count": null,
   "id": "e97cdd19",
   "metadata": {},
   "outputs": [
    {
     "name": "stdout",
     "output_type": "stream",
     "text": [
      "5\n",
      "['G', 'a', 'r', 'g', 'i']\n"
     ]
    }
   ],
   "source": [
    "'''\n",
    "2.\tExplain how Python handles type conversion between different data types, such as between integers and \n",
    "floats or between strings and lists.\n",
    "\n",
    "Ans.  typecasting functions:\n",
    "int(): converts the input into integer type 4.22 to 4\n",
    "float(): converts the input into float type eg 1 to 1.0\n",
    "str(): Converts to string\n",
    "liSt(): Converts to list\n",
    "tuple(): Converts to tuple\n",
    "'''\n",
    "#float to int\n",
    "x = 5.9\n",
    "y = int(x)\n",
    "print(y)\n",
    "#string to list\n",
    "name = \"Gargi\"\n",
    "chars = list(name)\n",
    "print(chars)"
   ]
  },
  {
   "cell_type": "code",
   "execution_count": 9,
   "id": "8d831fd7",
   "metadata": {},
   "outputs": [
    {
     "name": "stdout",
     "output_type": "stream",
     "text": [
      "milk\n",
      "{'Riya', 'Ansh', 'Gargi'}\n",
      "AI & DS\n"
     ]
    }
   ],
   "source": [
    "'''\n",
    "3.\tWhat are the key differences between Python’s `list`, `set`, and `dictionary` data types? Provide examples of \n",
    "scenarios where each would be the most appropriate choice.\n",
    "\n",
    "Ans. LIST---\n",
    "        List is an ordered collection of one or more data items \n",
    "        list is mutable\n",
    "        initialized by square brackets []\n",
    "        Allow duplicates\n",
    "        can be accessed by index\n",
    "\n",
    "    SET---\n",
    "        unordered collections of datatypes\n",
    "        mutable\n",
    "        duplicates are not allowed\n",
    "        syntax :{}\n",
    "\n",
    "    DICTIONARY---\n",
    "        unordered collection of data in key value pairs\n",
    "        no duplicate keys are allowed\n",
    "        it is mutable\n",
    "        syntax:{key:value}\n",
    "\n",
    "'''\n",
    "#list\n",
    "shopping_cart = [\"milk\", \"bread\", \"eggs\", \"milk\"]\n",
    "print(shopping_cart[0])\n",
    "\n",
    "#set\n",
    "unique_students = {\"Gargi\", \"Riya\", \"Ansh\", \"Gargi\"}\n",
    "print(unique_students)\n",
    "\n",
    "#dictionary\n",
    "student = {\n",
    "    \"name\": \"Vanshika\",\n",
    "    \"age\": 21,\n",
    "    \"branch\": \"AI & DS\"\n",
    "}\n",
    "print(student[\"branch\"])"
   ]
  },
  {
   "cell_type": "code",
   "execution_count": 10,
   "id": "61538860",
   "metadata": {},
   "outputs": [
    {
     "data": {
      "text/plain": [
       "'\\n4.\\tDiscuss the role of the `__repr__` and `__str__` methods in custom data types.\\nHow do they differ, and when should you implement them?\\nAns. (doubt!)\\n'"
      ]
     },
     "execution_count": 10,
     "metadata": {},
     "output_type": "execute_result"
    }
   ],
   "source": [
    "'''\n",
    "4.\tDiscuss the role of the `__repr__` and `__str__` methods in custom data types.\n",
    "How do they differ, and when should you implement them?\n",
    "Ans. (doubt!)\n",
    "'''"
   ]
  },
  {
   "cell_type": "code",
   "execution_count": 11,
   "id": "90299bbf",
   "metadata": {},
   "outputs": [
    {
     "name": "stdout",
     "output_type": "stream",
     "text": [
      "99999999999999999999999999999999999999999999999999999999\n"
     ]
    }
   ],
   "source": [
    "'''\n",
    "5.\tHow does Python handle large integers? Explain the difference between `int` in Python 2 and Python 3.\n",
    "Ans.Python 2: int and long, where long is used for large integers and int is used for fixed size integer\n",
    "    Python 3: only one datatype to handle numerical which is int it can handle both large values and fixed size values\n",
    "    \n",
    "'''\n",
    "i=99999999999999999999999999999999999999999999999999999999\n",
    "print(i)"
   ]
  },
  {
   "cell_type": "code",
   "execution_count": 20,
   "id": "54f1150c",
   "metadata": {},
   "outputs": [
    {
     "name": "stdout",
     "output_type": "stream",
     "text": [
      "14\n",
      "4\n",
      "[1, 2, 3, 4] [1, 2, 3, 4]\n"
     ]
    }
   ],
   "source": [
    "'''\n",
    "6.\t**What is the difference between the `+=` operator and the `+` operator in Python when used with mutable and \n",
    "immutable types?\n",
    "\n",
    "Ans. +=: tries to modify the existing element in place y+=5> y=y+5\n",
    "     +: creates a new object by combining values. x+5\n",
    "'''\n",
    "y=10\n",
    "y+=4\n",
    "print(y)\n",
    "x=4\n",
    "x+7\n",
    "print(x)\n",
    "\n",
    "#list\n",
    "l=[1,2]\n",
    "l2=l\n",
    "l+=[3,4]\n",
    "print(l,l2)"
   ]
  },
  {
   "cell_type": "code",
   "execution_count": 33,
   "id": "9253f0b0",
   "metadata": {},
   "outputs": [
    {
     "name": "stdout",
     "output_type": "stream",
     "text": [
      "g\n",
      "a\n",
      "r\n",
      "g\n",
      "i\n",
      "not found\n",
      "Gargi 20\n",
      "Kanak 18\n",
      "Bansika 55\n"
     ]
    }
   ],
   "source": [
    "'''\n",
    "7.\t**Explain the purpose and use of the `in` operator in Python. How does it behave differently when used with \n",
    "different data types, such as strings, lists, and dictionaries?\n",
    "\n",
    "Ans. The in operator in Python is used to check if a value exists within a sequence or collection.\n",
    "     It returns True if the value is found, otherwise False.\n",
    "'''\n",
    "#STRING\n",
    "s=\"gargi\"\n",
    "for k in s:\n",
    "    print(k)\n",
    "#it iterates over every character\n",
    "\n",
    "#list\n",
    "lst=[\"gargi\",\"vidhi\",\"khushish\"]\n",
    "if \"samarthya\" in lst:\n",
    "    print(\"Found\")\n",
    "else:\n",
    "    print(\"not found\")\n",
    "\n",
    "#dictionary\n",
    "d={\n",
    "    \"Gargi\":20,\n",
    "    \"Kanak\":18,\n",
    "    \"Bansika\":55\n",
    "}\n",
    "for i in d:\n",
    "    print(i,d[i])"
   ]
  },
  {
   "cell_type": "code",
   "execution_count": 42,
   "id": "28cdcd6a",
   "metadata": {},
   "outputs": [
    {
     "name": "stdout",
     "output_type": "stream",
     "text": [
      "5\n",
      "7\n",
      "2\n",
      "-6\n",
      "10\n",
      "0\n"
     ]
    }
   ],
   "source": [
    "'''\n",
    "8.\t**How do the bitwise operators (`&`, `|`, `^`, `~`, `<<`, `>>`) work in Python?\n",
    "Provide examples of their usage.\n",
    "\n",
    "Ans. Bitwise operators in Python perform operations on the binary representations of integers\n",
    "'''\n",
    "a=5\n",
    "b=7\n",
    "print(a&b)#AND\n",
    "print(a|b)#OR\n",
    "print(a^b)#XOR\n",
    "print(~a)#NOT\n",
    "print(a<<1)#left shift by 1\n",
    "print(a>>5)#right sift by 5"
   ]
  },
  {
   "cell_type": "code",
   "execution_count": 43,
   "id": "65c17630",
   "metadata": {},
   "outputs": [
    {
     "name": "stdout",
     "output_type": "stream",
     "text": [
      "12\n",
      "2\n",
      "35\n"
     ]
    }
   ],
   "source": [
    "'''\n",
    "9.\tWhat are augmented assignment operators, and how do they work in Python? Give examples with `+=`, `-=`, and `*=`.\n",
    "\n",
    "Ans. Augmented assignment operators are shortcuts in Python that combine an arithmetic operation with assignment.\n",
    "\n",
    "x+=5: x=x+5\n",
    "x-=5: x=x-5\n",
    "x*=5: x=x*5\n",
    "'''\n",
    "x=7\n",
    "x+=5\n",
    "print(x)\n",
    "x=7\n",
    "x-=5\n",
    "print(x)\n",
    "x=7\n",
    "x*=5\n",
    "print(x)"
   ]
  },
  {
   "cell_type": "code",
   "execution_count": null,
   "id": "439ca04f",
   "metadata": {},
   "outputs": [
    {
     "name": "stdout",
     "output_type": "stream",
     "text": [
      "False\n",
      "False\n"
     ]
    },
    {
     "ename": "NameError",
     "evalue": "name 'oo' is not defined",
     "output_type": "error",
     "traceback": [
      "\u001b[1;31m---------------------------------------------------------------------------\u001b[0m",
      "\u001b[1;31mNameError\u001b[0m                                 Traceback (most recent call last)",
      "Cell \u001b[1;32mIn[50], line 17\u001b[0m\n\u001b[0;32m     15\u001b[0m \u001b[38;5;28mprint\u001b[39m(s \u001b[38;5;129;01mis\u001b[39;00m y)\n\u001b[0;32m     16\u001b[0m \u001b[38;5;28mprint\u001b[39m(s\u001b[38;5;241m==\u001b[39my)\n\u001b[1;32m---> 17\u001b[0m \u001b[38;5;28mprint\u001b[39m(\u001b[43moo\u001b[49m)\n\u001b[0;32m     19\u001b[0m \u001b[38;5;66;03m#list\u001b[39;00m\n",
      "\u001b[1;31mNameError\u001b[0m: name 'oo' is not defined"
     ]
    }
   ],
   "source": [
    "\n",
    "'''\n",
    "10.\tHow does Python’s `is` operator differ from `==`, especially in terms of comparing lists, strings,\n",
    "and other complex data types?\n",
    "\n",
    "Ans. == (Equality Operator)\n",
    "Checks if two variables have the same value, even if they are different objects.\n",
    "\n",
    "is (Identity Operator)\n",
    "Checks if two variables point to the same object in memory.\n",
    "'''\n",
    "\n",
    "#string\n",
    "s=\"hello world\"\n",
    "y=\"hlo\"\n",
    "print(s is y)\n",
    "print(s==y)\n",
    "print(oo)\n",
    "\n",
    "#list\n"
   ]
  },
  {
   "cell_type": "code",
   "execution_count": null,
   "id": "3138d268",
   "metadata": {},
   "outputs": [],
   "source": []
  }
 ],
 "metadata": {
  "kernelspec": {
   "display_name": "Python 3",
   "language": "python",
   "name": "python3"
  },
  "language_info": {
   "codemirror_mode": {
    "name": "ipython",
    "version": 3
   },
   "file_extension": ".py",
   "mimetype": "text/x-python",
   "name": "python",
   "nbconvert_exporter": "python",
   "pygments_lexer": "ipython3",
   "version": "3.10.6"
  }
 },
 "nbformat": 4,
 "nbformat_minor": 5
}

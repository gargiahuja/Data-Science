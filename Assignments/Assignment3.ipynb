{
 "cells": [
  {
   "cell_type": "code",
   "execution_count": null,
   "id": "26124cef",
   "metadata": {},
   "outputs": [
    {
     "name": "stdout",
     "output_type": "stream",
     "text": [
      "[0, 1, 4, 9, 16, 25, 36, 49, 64, 81]\n"
     ]
    }
   ],
   "source": [
    "'''\n",
    "1.  What are list comprehensions in Python, and how do they differ from traditional `for` loops in terms of \n",
    "    syntax and performance? \n",
    "Coding Challenge:  Convert the following `for` loop into a list comprehension:\n",
    "     \n",
    "     squares = [ ]\n",
    "     for i in range(10):\n",
    "         squares.append(i  ** 2)\n",
    "\n",
    "Ans. List comprehensions are a short and simple way to create new lists in Python.\n",
    "        It’s like writing a for loop in one line, but in a cleaner and faster way.\n",
    "\n",
    "        TRADITIONAL FOR LOOP:it contains more lines , it uses append() to create new list\n",
    "        LIST COMPREHENSION: it contains single line, it is faster\n",
    "\n",
    "'''\n",
    "squares=[i**2 for i in range(10)]\n",
    "print(squares)\n"
   ]
  },
  {
   "cell_type": "code",
   "execution_count": null,
   "id": "ec8531ca",
   "metadata": {},
   "outputs": [
    {
     "name": "stdout",
     "output_type": "stream",
     "text": [
      "[2, 4, 6, 8, 10, 12, 14, 16, 18, 20, 22, 24, 26, 28, 30, 32, 34, 36, 38, 40, 42, 44, 46, 48, 50]\n"
     ]
    }
   ],
   "source": [
    "'''\n",
    "2.  How can you include conditional statements within a list comprehension? Provide an example. \n",
    "   -  Coding Challenge:  Create a list comprehension that generates a list of all even numbers between 1 and 50.\n",
    "\n",
    "Ans. By using filter values or by using if-else\n",
    "      SYNTAX: [expression for item in iterable if condition]\n",
    "\n",
    "      below is the example:\n",
    "\n",
    "'''\n",
    "square = [r**2 for r in range(1,21) if r%2==0]\n",
    "print(square)\n",
    "'''\n",
    "\n",
    "'''\n",
    "list1=[i for i in range(1,51) if i%2==0]\n",
    "print(list1)"
   ]
  },
  {
   "cell_type": "code",
   "execution_count": null,
   "id": "1b4bdefe",
   "metadata": {},
   "outputs": [
    {
     "name": "stdout",
     "output_type": "stream",
     "text": [
      "[2, 3, 0, 11, 85, 0, 0]\n"
     ]
    }
   ],
   "source": [
    "'''\n",
    "3.  Explain the difference between `if` and `if-else` conditions in list comprehensions. How do you use them? \n",
    "   -  Coding Challenge:  Write a list comprehension that replaces every negative number in a list with 0, leaving \n",
    "      positive numbers unchanged.\n",
    "   Coding Challenge:  Write a list comprehension that replaces every negative number in a list with 0, leaving positive numbers unchanged.\n",
    "\n",
    "Ans. IF CONDITION : it is used after the for loop.It includes only those items that satisfy the condition.\n",
    "      syntax : [expression for item in iterable if condition]\n",
    "\n",
    "   IF-ELSE CONDITION : used before the loop.It decides what value to put in the list based on the condition.\n",
    "      syntax : [expression_if_true if condition else expression_if_false for item in iterable]\n",
    "\n",
    "\n",
    "'''\n",
    "list2=[2,3,-9,11,85,-98,-5]\n",
    "newlist=[i if i>=0 else 0 for i in list2]\n",
    "print(newlist)"
   ]
  },
  {
   "cell_type": "code",
   "execution_count": null,
   "id": "21043313",
   "metadata": {},
   "outputs": [
    {
     "name": "stdout",
     "output_type": "stream",
     "text": [
      "[1, 2, 3, 4, 5, 6, 7, 8, 9]\n"
     ]
    }
   ],
   "source": [
    "'''\n",
    "4.  How can you use nested list comprehensions to flatten a 2D list (a list of lists) into a 1D list? \n",
    "   -  Coding Challenge:  Given a 2D list `matrix = [[1, 2, 3], [4, 5, 6], [7, 8, 9]]`, write a list comprehension \n",
    "        to flatten it into a single list.\n",
    "\n",
    "Ans. BY USING SYNTAX : [inner_item for outer_list in main_list for inner_item in outer_list]\n",
    "'''\n",
    "matrix = [[1, 2, 3], [4, 5, 6], [7, 8, 9]]\n",
    "newlist2=[j for i in matrix for j in i]\n",
    "print(newlist2)"
   ]
  },
  {
   "cell_type": "code",
   "execution_count": 47,
   "id": "d114e585",
   "metadata": {},
   "outputs": [
    {
     "name": "stdout",
     "output_type": "stream",
     "text": [
      "[2, 4, 6, 8, 2, 4, 6, 8, 10, 12, 14, 16, 18, 6, 12, 18, 24, 4, 8, 12, 16, 20, 24, 28, 32, 36, 10, 20, 30, 40, 6, 12, 18, 24, 30, 36, 42, 48, 54, 14, 28, 42, 56, 8, 16, 24, 32, 40, 48, 56, 64, 72, 18, 36, 54, 72]\n"
     ]
    }
   ],
   "source": [
    "'''\n",
    "5.  What are the limitations of list comprehensions in terms of readability and complexity? \n",
    "When should you prefer a traditional loop over a list comprehension? \n",
    "   -  Coding Challenge:  Rewrite the following list comprehension using a traditional loop to improve readability:\n",
    "   result = [x*y for x in range(1, 10) for y in range(1, 10) if x*y % 2 == 0]\n",
    "\n",
    "Ans.  LIMITATIONS : Poor readability with complex logic\n",
    "               Not suitable for very long or nested logic\n",
    "\n",
    "      When to prefer a traditional for loop:\n",
    "      Jab logic complex ho ya multiple steps execute karne ho.\n",
    "      Jab code ko easily readable and maintainable banana ho.\n",
    "\n",
    "'''\n",
    "result=[]\n",
    "for x in range(1,10):\n",
    "   for y in range(1,10):\n",
    "      if x*y%2==0:\n",
    "         result.append(x*y)\n",
    "print(result)\n"
   ]
  },
  {
   "cell_type": "code",
   "execution_count": 24,
   "id": "5cb2ec07",
   "metadata": {},
   "outputs": [
    {
     "name": "stdout",
     "output_type": "stream",
     "text": [
      "[9.235, 8.23568, 85, 9.23]\n"
     ]
    }
   ],
   "source": [
    "'''\n",
    "6.  How can you use list comprehensions with functions? Provide an example where a function is called within a \n",
    "    list comprehension. \n",
    "Coding Challenge:  Write a list comprehension that applies the `abs()` function to each number in a list,\n",
    "   converting all numbers to their absolute values.\n",
    "\n",
    "'''\n",
    "list3=[9.235,8.23568,-85,-9.23]\n",
    "newlist3=[abs(i) for i in list3 ]\n",
    "print(newlist3)"
   ]
  },
  {
   "cell_type": "code",
   "execution_count": 41,
   "id": "29ebb8fe",
   "metadata": {},
   "outputs": [
    {
     "name": "stdout",
     "output_type": "stream",
     "text": [
      "[200, 200, 200, 200, 200, 200, 200, 200, 200, 200]\n",
      "100\n"
     ]
    }
   ],
   "source": [
    "'''\n",
    "7.  How do list comprehensions handle the scope of variables? What happens if you use a variable name \n",
    "    inside a list comprehension that is also used outside it? \n",
    "    -Coding Challenge:  Demonstrate the scope behavior of variables in list comprehensions by creating a list \n",
    "   comprehension that unintentionally overrides a variable defined outside the comprehension.\n",
    "\n",
    "ANS.\n",
    "In Python, list comprehensions have their own local scope for loop variables.\n",
    "If you use a variable name inside the list comprehension that is also used outside, \n",
    "then the outer variable will not be changed\n",
    "'''\n",
    "s=100\n",
    "n=[s*2 for i in range(10)]\n",
    "print(n)\n",
    "print(s)\n"
   ]
  },
  {
   "cell_type": "code",
   "execution_count": null,
   "id": "f7f51324",
   "metadata": {},
   "outputs": [
    {
     "name": "stdout",
     "output_type": "stream",
     "text": [
      "[0, 3, 6, 9, 12, 15, 18, 21, 24, 27, 30, 33, 36, 39, 42, 45, 48, 51, 54, 57, 60, 63, 66, 69, 72, 75, 78, 81, 84, 87, 90, 93, 96, 99]\n"
     ]
    }
   ],
   "source": [
    "'''\n",
    "8.  What are the differences between list comprehensions and generator expressions? When would you use one over the other? \n",
    "   -  Coding Challenge:  Convert the following list comprehension into a generator expression:\n",
    "     ```python\n",
    "     multiples_of_three = [x for x in range(100) if x % 3 == 0]\n",
    "     ```\n",
    "\n",
    "Ans.  LIST COMPREHENSION : List comprehension creates a full list in memory at once.-------square brackets []\n",
    "      GENERATOR EXPRESSION : Generator expression creates one item at a time using lazy evaluation------round brackets ()\n",
    "\n",
    "'''\n",
    "multiples_of_three = (x for x in range(100) if x % 3 == 0)\n",
    "#for i in multiples_of_three:\n",
    "#    print(i)\n",
    "print(list(multiples_of_three))"
   ]
  },
  {
   "cell_type": "code",
   "execution_count": 42,
   "id": "121dbfed",
   "metadata": {},
   "outputs": [
    {
     "name": "stdout",
     "output_type": "stream",
     "text": [
      "[4, 16, 36]\n",
      "[3364, 2025, 16]\n"
     ]
    }
   ],
   "source": [
    "'''\n",
    "9.  How can you use a list comprehension to filter and transform data in one step? Provide an example. \n",
    "   -  Coding Challenge:  Write a list comprehension that filters out all strings from a mixed list of \n",
    "   integers and strings, and then converts the remaining integers to their square values.\n",
    "ANS.\n",
    "    if condition → filters data\n",
    "    transformed_item → transforms the filtered data\n",
    "\n",
    "    BELOW IS THE EXAMPLE:\n",
    "'''\n",
    "numbers = [1, 2, 3, 4, 5, 6]\n",
    "squares_of_even = [x * x for x in numbers if x % 2 == 0]\n",
    "print(squares_of_even)\n",
    "''' \n",
    "'''\n",
    "list4=[\"gargi\",58,45,\"kanak\",\"vanshika\",4]\n",
    "newlist4=[i**2 for i in list4 if isinstance(i,int) ]\n",
    "print(newlist4)"
   ]
  },
  {
   "cell_type": "code",
   "execution_count": 46,
   "id": "455067b7",
   "metadata": {},
   "outputs": [
    {
     "name": "stdout",
     "output_type": "stream",
     "text": [
      "{'h': 104, 'e': 101, 'l': 108, 'o': 111}\n"
     ]
    }
   ],
   "source": [
    "'''\n",
    "10.  Can you create a dictionary or set using comprehension syntax in Python? \n",
    "    How does the syntax differ from list comprehensions? \n",
    "    -  Coding Challenge:  Write a dictionary comprehension that maps each character in a \n",
    "    string to its ASCII value. For example, given the string `\"hello\"`, the result should be \n",
    "    `{'h': 104, 'e': 101, 'l': 108, 'o': 111}`.\n",
    "\n",
    "ANS.\n",
    "SET COMPREHENSION : {expression for item in iterable}, uses curly brackets, unordered\n",
    "DICTIONARY COMPREHENSION : {key: value for item in iterable}, uses curly brackets\n",
    "\n",
    "\n",
    "'''\n",
    "d={i:ord(i) for i in \"hello\"}\n",
    "print(d)\n"
   ]
  }
 ],
 "metadata": {
  "kernelspec": {
   "display_name": "Python 3",
   "language": "python",
   "name": "python3"
  },
  "language_info": {
   "codemirror_mode": {
    "name": "ipython",
    "version": 3
   },
   "file_extension": ".py",
   "mimetype": "text/x-python",
   "name": "python",
   "nbconvert_exporter": "python",
   "pygments_lexer": "ipython3",
   "version": "3.10.6"
  }
 },
 "nbformat": 4,
 "nbformat_minor": 5
}

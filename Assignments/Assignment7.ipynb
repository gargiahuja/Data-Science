{
 "cells": [
  {
   "cell_type": "code",
   "execution_count": 2,
   "id": "3e4bf7d0",
   "metadata": {},
   "outputs": [
    {
     "name": "stdout",
     "output_type": "stream",
     "text": [
      "[ 5  7  9 11]\n",
      "\n",
      "\n",
      "[-3 -3 -3 -3]\n",
      "\n",
      "\n",
      "[ 4 10 18 28]\n",
      "\n",
      "\n",
      "[0.25       0.4        0.5        0.57142857]\n"
     ]
    }
   ],
   "source": [
    "'''\n",
    "1.  What is NumPy and what are its main advantages over regular Python lists? \n",
    "   -  Coding Challenge:  Create a NumPy array from a list of numbers and perform basic \n",
    "   arithmetic operations (addition, multiplication) on the array.\n",
    "\n",
    "Ans. NumPy stands for numerical python\n",
    "it is faster to access anf manipulate than list and stores only one siingle type of data\n",
    "'''\n",
    "import numpy as np\n",
    "arr1=np.array([1,2,3,4])\n",
    "arr2=np.array([4,5,6,7])\n",
    "arr=arr1+arr2\n",
    "print(arr1+arr2)\n",
    "print(\"\\n\")\n",
    "print(arr1-arr2)\n",
    "print(\"\\n\")\n",
    "print(arr1*arr2)\n",
    "print(\"\\n\")\n",
    "print(arr1/arr2)"
   ]
  },
  {
   "cell_type": "code",
   "execution_count": 3,
   "id": "dceafe8a",
   "metadata": {},
   "outputs": [
    {
     "name": "stdout",
     "output_type": "stream",
     "text": [
      "[[0. 0. 0.]\n",
      " [0. 0. 0.]\n",
      " [0. 0. 0.]]\n",
      "[[1. 1. 1.]\n",
      " [1. 1. 1.]\n",
      " [1. 1. 1.]]\n",
      "[[4 9 3]\n",
      " [9 5 6]\n",
      " [9 7 2]]\n"
     ]
    }
   ],
   "source": [
    "'''\n",
    "2.  How can you create different types of arrays in NumPy, such as arrays filled with zeros, ones, or random values? \n",
    "   -  Coding Challenge:  Write a Python script that creates a 3x3 array of zeros, a 3x3 array of ones, \n",
    "   and a 3x3 array of random integers between 1 and 10.\n",
    "\n",
    "'''\n",
    "print(np.zeros(9).reshape(-1,3))\n",
    "print(np.ones(9).reshape(-1,3))\n",
    "print(np.random.randint(1,10,9).reshape(-1,3))"
   ]
  },
  {
   "cell_type": "code",
   "execution_count": 4,
   "id": "8abb98a5",
   "metadata": {},
   "outputs": [
    {
     "name": "stdout",
     "output_type": "stream",
     "text": [
      "[[56 41 32 27]\n",
      " [21 45 23 27]\n",
      " [33 22 22 39]\n",
      " [57 27 43 25]]\n",
      "\n",
      "\n",
      "[[32 27]\n",
      " [23 27]]\n"
     ]
    }
   ],
   "source": [
    "'''\n",
    "3.  Explain how array indexing and slicing work in NumPy. How does it differ from standard Python list indexing? \n",
    "   -  Coding Challenge:  Create a 2D NumPy array and use slicing to extract a subarray from it. \n",
    "   For example, extract a 2x2 subarray from a 4x4 array.\n",
    "\n",
    "'''\n",
    "arr3=np.random.randint(20,60,16).reshape(-1,4)\n",
    "print(arr3)\n",
    "print(\"\\n\")\n",
    "print(arr3[0:2,2:4])"
   ]
  },
  {
   "cell_type": "code",
   "execution_count": 10,
   "id": "5a75fd54",
   "metadata": {},
   "outputs": [
    {
     "name": "stdout",
     "output_type": "stream",
     "text": [
      "53.1\n",
      "67.0\n",
      "28.46032325888095\n"
     ]
    }
   ],
   "source": [
    "'''\n",
    "4.  What are some common functions in NumPy for performing statistical operations, such as mean, median,\n",
    "and standard deviation? \n",
    "   -  Coding Challenge:  Write a Python script that computes the mean, median, and standard deviation\n",
    "     of a NumPy array containing 100 random values.\n",
    "\n",
    "'''\n",
    "arr4=np.random.randint(1,101,100)\n",
    "print(arr4.mean())\n",
    "np.sort(arr4)\n",
    "median=(arr4[50]+arr4[51])/2\n",
    "print(median)\n",
    "print(arr4.std())\n"
   ]
  },
  {
   "cell_type": "code",
   "execution_count": 24,
   "id": "58770647",
   "metadata": {},
   "outputs": [
    {
     "name": "stdout",
     "output_type": "stream",
     "text": [
      "[[ 45 255]\n",
      " [ 78 342]\n",
      " [ 90  44]\n",
      " [ 18  70]]\n",
      "[[-12   2]\n",
      " [  7  -1]\n",
      " [  1   7]\n",
      " [  3  -3]]\n",
      "[[351 393]\n",
      " [204 300]]\n"
     ]
    }
   ],
   "source": [
    "'''\n",
    "5.  How can you perform element-wise operations and matrix operations using NumPy? Provide examples of both. \n",
    "   -  Coding Challenge:  Create two 2D NumPy arrays and perform element-wise addition, subtraction, and matrix\n",
    "     multiplication.\n",
    "\n",
    "'''\n",
    "arr5=np.random.randint(1,20,8).reshape(-1,2)\n",
    "arr6=np.random.randint(1,20,8).reshape(-1,2)\n",
    "print(arr5*arr6)\n",
    "print(arr5-arr6)\n",
    "arr7=np.random.randint(1,20,8).reshape(-1,4)\n",
    "print(arr7@arr6)"
   ]
  },
  {
   "cell_type": "code",
   "execution_count": 45,
   "id": "fcc2ce9b",
   "metadata": {},
   "outputs": [
    {
     "ename": "TypeError",
     "evalue": "array() missing required argument 'object' (pos 0)",
     "output_type": "error",
     "traceback": [
      "\u001b[31m---------------------------------------------------------------------------\u001b[39m",
      "\u001b[31mTypeError\u001b[39m                                 Traceback (most recent call last)",
      "\u001b[36mCell\u001b[39m\u001b[36m \u001b[39m\u001b[32mIn[45]\u001b[39m\u001b[32m, line 11\u001b[39m\n\u001b[32m      9\u001b[39m arr9=np.random.randint(\u001b[32m1\u001b[39m,\u001b[32m10\u001b[39m,\u001b[32m9\u001b[39m).reshape(-\u001b[32m1\u001b[39m,\u001b[32m3\u001b[39m)\n\u001b[32m     10\u001b[39m m=arr9.shape[\u001b[32m0\u001b[39m]\n\u001b[32m---> \u001b[39m\u001b[32m11\u001b[39m \u001b[38;5;28msum\u001b[39m=\u001b[43mnp\u001b[49m\u001b[43m.\u001b[49m\u001b[43marray\u001b[49m\u001b[43m(\u001b[49m\u001b[43m)\u001b[49m\n\u001b[32m     12\u001b[39m \u001b[38;5;28;01mfor\u001b[39;00m i \u001b[38;5;129;01min\u001b[39;00m \u001b[38;5;28mrange\u001b[39m(m):\n\u001b[32m     13\u001b[39m     \u001b[38;5;28msum\u001b[39m.append(arr8+arr9[i])\n",
      "\u001b[31mTypeError\u001b[39m: array() missing required argument 'object' (pos 0)"
     ]
    }
   ],
   "source": [
    "'''\n",
    "6.  What are broadcasting and how does it work in NumPy? How can you use it to perform operations on arrays \n",
    "of different shapes? \n",
    "   -  Coding Challenge:  Write a Python script that demonstrates broadcasting by adding a 1D array to each \n",
    "   row of a 2D array.\n",
    "\n",
    "'''\n",
    "arr8=np.random.randint(1,10,3)\n",
    "arr9=np.random.randint(1,10,9).reshape(-1,3)\n",
    "m=arr9.shape[0]\n",
    "sum=np.array()\n",
    "for i in range(m):\n",
    "    sum.append(arr8+arr9[i])\n",
    "np.array(sum)\n",
    "print(sum)"
   ]
  },
  {
   "cell_type": "code",
   "execution_count": 58,
   "id": "dc9ff038",
   "metadata": {},
   "outputs": [
    {
     "data": {
      "text/plain": [
       "array([1. , 4. , 3. , 3.2, 5. , 3. , 3.2])"
      ]
     },
     "execution_count": 58,
     "metadata": {},
     "output_type": "execute_result"
    }
   ],
   "source": [
    "'''\n",
    "7.  How do you handle missing or NaN values in NumPy arrays? What functions or methods can be used for this purpose? \n",
    "   -  Coding Challenge:  Create a NumPy array with some NaN values and use NumPy functions to replace NaNs \n",
    "   with the mean of the array.\n",
    "\n",
    "'''\n",
    "a=np.array([1,4,3,np.nan,5,3,np.nan])\n",
    "y=np.nanmean(a)\n",
    "is_nan=np.isnan(a)\n",
    "a_replaced=np.nan_to_num(a,nan=y)\n",
    "a_replaced"
   ]
  },
  {
   "cell_type": "code",
   "execution_count": 64,
   "id": "2e9bfee2",
   "metadata": {},
   "outputs": [
    {
     "data": {
      "text/plain": [
       "array([1, 2, 3, 6, 5, 2, 3, 1, 5, 4, 8, 5])"
      ]
     },
     "execution_count": 64,
     "metadata": {},
     "output_type": "execute_result"
    }
   ],
   "source": [
    "'''\n",
    "8.  Explain the purpose and usage of NumPy's `reshape()` and `flatten()` methods. \n",
    "How can you change the shape of an array? \n",
    "   -  Coding Challenge:  Write a Python script that creates a 1D array with 12 elements, \n",
    "   reshapes it into a 3x4 array, and then flattens it back into a 1D array.\n",
    "\n",
    "'''\n",
    "arr10=np.array([1,2,3,6,5,2,3,1,5,4,8,5]).reshape(3,4)\n",
    "arr10.reshape(-1)"
   ]
  },
  {
   "cell_type": "code",
   "execution_count": 65,
   "id": "6858b9ae",
   "metadata": {},
   "outputs": [
    {
     "data": {
      "text/plain": [
       "'\\n9.  What is the role of `numpy.linalg` for linear algebra operations? \\nHow can you use it to perform operations like matrix inversion or eigenvalue computation? \\n   -  Coding Challenge:  Create a 2x2 matrix and use `numpy.linalg.inv()` to compute its \\n   inverse. Also, compute the eigenvalues and eigenvectors of the matrix.\\n\\n'"
      ]
     },
     "execution_count": 65,
     "metadata": {},
     "output_type": "execute_result"
    }
   ],
   "source": [
    "'''\n",
    "9.  What is the role of `numpy.linalg` for linear algebra operations? \n",
    "How can you use it to perform operations like matrix inversion or eigenvalue computation? \n",
    "   -  Coding Challenge:  Create a 2x2 matrix and use `numpy.linalg.inv()` to compute its \n",
    "   inverse. Also, compute the eigenvalues and eigenvectors of the matrix.\n",
    "\n",
    "'''\n"
   ]
  },
  {
   "cell_type": "code",
   "execution_count": 70,
   "id": "7ee96585",
   "metadata": {},
   "outputs": [
    {
     "data": {
      "text/plain": [
       "array([3, 4, 6, 6, 9, 8, 9, 5, 5, 4, 3, 6])"
      ]
     },
     "execution_count": 70,
     "metadata": {},
     "output_type": "execute_result"
    }
   ],
   "source": [
    "'''\n",
    "10.  How can you save and load NumPy arrays to and from files? What formats are supported? \n",
    "    -  Coding Challenge:  Write a Python script that saves a NumPy array to a file using \n",
    "    `numpy.save()` and then loads it back using `numpy.load()`.\n",
    "\n",
    "'''\n",
    "n=np.random.randint(1,10,12)\n",
    "np.save(\"numpy_file\",n,arr10)\n",
    "np.load(\"numpy_file.npy\")"
   ]
  },
  {
   "cell_type": "code",
   "execution_count": null,
   "id": "e33a1b71",
   "metadata": {},
   "outputs": [],
   "source": []
  }
 ],
 "metadata": {
  "kernelspec": {
   "display_name": "Python 3",
   "language": "python",
   "name": "python3"
  },
  "language_info": {
   "codemirror_mode": {
    "name": "ipython",
    "version": 3
   },
   "file_extension": ".py",
   "mimetype": "text/x-python",
   "name": "python",
   "nbconvert_exporter": "python",
   "pygments_lexer": "ipython3",
   "version": "3.11.1"
  }
 },
 "nbformat": 4,
 "nbformat_minor": 5
}

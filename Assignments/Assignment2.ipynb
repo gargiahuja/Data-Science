{
 "cells": [
  {
   "cell_type": "code",
   "execution_count": 1,
   "id": "1ed815c5",
   "metadata": {},
   "outputs": [
    {
     "name": "stdout",
     "output_type": "stream",
     "text": [
      "Grade: B\n",
      "Negative\n",
      "Positive\n",
      "Zero\n"
     ]
    }
   ],
   "source": [
    "'''\n",
    "1. How do `if-elif-else` statements work in Python? Provide an example where multiple conditions must \n",
    "be checked and explain the flow of control.\n",
    "Coding Challenge:Write a function that takes a number as input and returns \"Positive\", \"Negative\", or \"Zero\"\n",
    "based on the input value.\n",
    "\n",
    "Ans. \n",
    "\n",
    "'''\n",
    "#if, elif, else\n",
    "marks=65\n",
    "if marks>=90:\n",
    "    print(\"Grade: A+\")\n",
    "elif marks>=80 and marks<90:\n",
    "    print(\"Grade: A\")\n",
    "elif marks>=70 and marks<80:\n",
    "    print(\"Grade: B+\")\n",
    "elif 60<=marks<70:\n",
    "    print(\"Grade: B\")\n",
    "else:\n",
    "    print(\"Better luck next time\")\n",
    "\n",
    "def check(num):\n",
    "    if num<0:\n",
    "        return \"Negative\"\n",
    "    elif num>0:\n",
    "        return \"Positive\"\n",
    "    else:\n",
    "        return \"Zero\"\n",
    "\n",
    "num=-85\n",
    "print(check(num))\n",
    "num=65\n",
    "print(check(num))\n",
    "num=0\n",
    "print(check(num))\n"
   ]
  },
  {
   "cell_type": "code",
   "execution_count": 5,
   "id": "44a55b52",
   "metadata": {},
   "outputs": [
    {
     "name": "stdout",
     "output_type": "stream",
     "text": [
      "2\n",
      "3\n",
      "5\n",
      "7\n",
      "11\n",
      "13\n",
      "17\n",
      "19\n",
      "23\n",
      "29\n",
      "31\n",
      "37\n",
      "41\n",
      "43\n",
      "47\n",
      "53\n",
      "59\n",
      "61\n",
      "67\n",
      "71\n",
      "73\n",
      "79\n",
      "83\n",
      "89\n",
      "97\n"
     ]
    }
   ],
   "source": [
    "'''\n",
    "2.  What is the difference between `for` loops and `while` loops in terms of conditional checks?\n",
    "When would you prefer one over the other? \n",
    "Coding Challenge:  Write a Python script to print all prime numbers between 1 and 100 using a `for` loop.\n",
    "\n",
    "Ans.    for: Automatically checks how many items are in an iterable (like list, string, range).\n",
    "        Runs for each item.\n",
    "        while: Checks a condition manually before each iteration.\n",
    "        You have to update the variable inside the loop, or it may become infinite.\n",
    "'''\n",
    "\n",
    "for i in range(2,101):\n",
    "    is_prime=True\n",
    "    for j in range(2,int(i/2)+1):\n",
    "        if i%j==0:\n",
    "            is_prime=False\n",
    "            break\n",
    "    if is_prime:\n",
    "        print(i)"
   ]
  },
  {
   "cell_type": "code",
   "execution_count": 10,
   "id": "94abca2d",
   "metadata": {},
   "outputs": [
    {
     "name": "stdout",
     "output_type": "stream",
     "text": [
      "99\n"
     ]
    }
   ],
   "source": [
    "'''\n",
    "3.  Explain how nested `if` statements work in Python. How can you avoid deep nesting to make your code more readable? \n",
    "   -  Coding Challenge:  Write a function that takes three numbers as input and returns the largest of the three using \n",
    "   nested `if` statements.\n",
    "\n",
    "Ans. Nested if means an if statement inside another if block.\n",
    "     It allows you to test multiple conditions in a step-by-step, dependent manner\n",
    "     \n",
    "     Problem with Deep Nesting:\n",
    "     When you nest too many if statements, the code becomes hard to read and difficult to maintain.\n",
    "     How to Avoid Deep Nesting:\n",
    "1. Use logical operators (and, or)\n",
    "2. Use return or break early (for functions or loops)\n",
    "3. Use elif and else properly\n",
    "'''\n",
    "def numcheck(a,b,c):\n",
    "    if a>b:\n",
    "        if a>c:\n",
    "            m=a\n",
    "        else:\n",
    "            m=c\n",
    "    elif b>c:\n",
    "        if b>a:\n",
    "            m=b\n",
    "        else:\n",
    "            m=a\n",
    "    elif c>a:\n",
    "        if c>b:\n",
    "            m=c\n",
    "        else:\n",
    "            m=b\n",
    "    return m\n",
    "\n",
    "print(numcheck(99,2,55))"
   ]
  },
  {
   "cell_type": "code",
   "execution_count": 9,
   "id": "fa846c6b",
   "metadata": {},
   "outputs": [
    {
     "data": {
      "text/plain": [
       "13"
      ]
     },
     "execution_count": 9,
     "metadata": {},
     "output_type": "execute_result"
    }
   ],
   "source": [
    "'''\n",
    "4.  What are the potential risks of using `break` in loops? How does it affect loop execution and what \n",
    "alternatives can you use? \n",
    "   -  Coding Challenge:  Write a Python program that reads numbers from the user until they input a negative number. \n",
    "   The program should then print the sum of all positive numbers entered.\n",
    "\n",
    "Ans. \n",
    "BREAK : The break statement is used to exit a loop immediately\n",
    "POTENTIAL RISK : overusing can reduce clarity\n",
    "AFFECTS : As soon as break is encountered, the loop stops completely, and control moves to the next line after the loop.\n",
    "ALTERNATIVES : use else \n",
    "\n",
    "'''\n",
    "\n",
    "def possum(a):\n",
    "   if a>=0:\n",
    "      lst.append(a)\n",
    "   else:\n",
    "      j=0\n",
    "      for i in lst:\n",
    "         j=j+i\n",
    "      return j\n",
    "   return\n",
    "lst=[]\n",
    "possum(5)\n",
    "possum(8)\n",
    "possum(-8)\n",
    "possum(-88)"
   ]
  },
  {
   "cell_type": "code",
   "execution_count": 11,
   "id": "a145db1c",
   "metadata": {},
   "outputs": [
    {
     "data": {
      "text/plain": [
       "6"
      ]
     },
     "execution_count": 11,
     "metadata": {},
     "output_type": "execute_result"
    }
   ],
   "source": [
    "'''\n",
    "5.  How does the `else` clause in a loop work, and how does it differ from the `else` in conditional statements? \n",
    "Coding Challenge:  Write a function that searches for a specific element in a list using a `for` loop.\n",
    "                If the element is found, return its index; if not, return -1 using the `else` clause in the loop.\n",
    "\n",
    "Ans. IN CONDITIONAL STATEMENTS: The else block in an if-else statement runs only when the if condition is False.\n",
    "     IN A LOOP WORK : else part executes only if the loop completes normally (Runs when loop doesn’t break)\n",
    "\n",
    "\n",
    "'''\n",
    "def find(a,lst):\n",
    "    if a in lst:\n",
    "        for i in range(len(lst)):\n",
    "            if a==lst[i]:\n",
    "                return i\n",
    "    else:\n",
    "        return -1\n",
    "    \n",
    "lst=[1,2,9,6,5,7,88]\n",
    "find(88,lst)\n"
   ]
  },
  {
   "cell_type": "code",
   "execution_count": null,
   "id": "61ef4252",
   "metadata": {},
   "outputs": [
    {
     "name": "stdout",
     "output_type": "stream",
     "text": [
      "True\n"
     ]
    }
   ],
   "source": [
    "'''\n",
    "6.  What is a common pitfall when using floating-point numbers in conditional statements? How can you avoid it? \n",
    "Coding Challenge:  Write a Python function that compares two floating-point numbers and returns `True` \n",
    "   if they are approximately equal, considering a small tolerance value.\n",
    "\n",
    "Ans. PITFALL: Floating-point numbers (like 0.1, 0.2, 0.3) cannot always be represented exactly in binary — the way computers store them.\n",
    "        So when we compare them directly using ==, you might get unexpected results.\n",
    "        eg. x=0.1+0.2\n",
    "            if x==0.3:\n",
    "                print(\"equal\")\n",
    "\n",
    "HOW TO AVOID : 1.By using round()\n",
    "                 x=0.1+0.2\n",
    "                 if round(x,2)==0.3:\n",
    "                    print(\"Equal\") \n",
    "                2.use tolerance\n",
    "                 agar do values bilkul equal na ho kar bhi bohot kareeb hain, toh unhe equal maan lo.\n",
    "'''\n",
    "def floatcheck(a,b):\n",
    "    if round(a,2)==round(b,2):\n",
    "        return True\n",
    "    else:\n",
    "        return False\n",
    "\n",
    "print(floatcheck(8.325648,8.3298641))"
   ]
  },
  {
   "cell_type": "code",
   "execution_count": null,
   "id": "7af5f4a5",
   "metadata": {},
   "outputs": [
    {
     "name": "stdout",
     "output_type": "stream",
     "text": [
      "[54, 26, 8, 20, -8]\n"
     ]
    }
   ],
   "source": [
    "'''\n",
    "7.  How can you combine `for` loops and `if` statements to filter and process data in Python? \n",
    "Coding Challenge:  Given a list of integers, write a Python program that uses a `for` loop and `if` \n",
    "                statements to create a new list containing only the even numbers.\n",
    "\n",
    "Ans. we can combine for loops (to go through items) with if statements (to check conditions) to\n",
    "     filter (select specific data) and process (perform actions on that data).\n",
    "\n",
    "\n",
    "'''\n",
    "list1=[54,26,85,69,8,23,20,55,-8]\n",
    "newlist=[i for i in list1 if i%2==0]\n",
    "print(newlist)"
   ]
  },
  {
   "cell_type": "code",
   "execution_count": 19,
   "id": "890cf5fa",
   "metadata": {},
   "outputs": [
    {
     "name": "stdout",
     "output_type": "stream",
     "text": [
      "False\n",
      "True\n",
      "True\n",
      "False\n"
     ]
    }
   ],
   "source": [
    "'''\n",
    "8.  Discuss the concept of short-circuit evaluation in Python. How does it affect the performance of \n",
    "conditional statements? \n",
    "Coding Challenge:  Write a function that takes three boolean values and returns `True` if at least two \n",
    "                of them are `True`, using short-circuit evaluation.\n",
    "\n",
    "'''\n",
    "def atleast(a,b,c):\n",
    "    return (a&b) |(a&c)|(c&b)\n",
    "\n",
    "print(atleast(False,False,True))\n",
    "print(atleast(True,False,True))\n",
    "print(atleast(True,True,True))\n",
    "print(atleast(False,False,False))\n"
   ]
  },
  {
   "cell_type": "code",
   "execution_count": null,
   "id": "62900b9a",
   "metadata": {},
   "outputs": [
    {
     "name": "stdout",
     "output_type": "stream",
     "text": [
      "15\n",
      "3\n",
      "78\n",
      "45\n"
     ]
    }
   ],
   "source": [
    "'''\n",
    "9.  Explain how the `continue` statement works in a loop. What are some scenarios where using `continue` \n",
    "is more beneficial than restructuring the loop? \n",
    "Coding Challenge:  Write a Python program that iterates through a list of numbers and prints only \n",
    "       those numbers that are divisible by 3, using the `continue` statement.\n",
    "\n",
    "Ans. CONTINUE: The continue statement is used inside loops (for or while) to skip the current iteration \n",
    "          and move to the next one,\n",
    "          without running the remaining code in the loop body for that iteration.\n",
    "       BENEFITS: Avoids Unnecessary Nesting\n",
    "          Using continue can make the code cleaner and easier to read by avoiding extra if-else nesting.\n",
    "\n",
    "\n",
    "'''\n",
    "\n",
    "list2=[15,26,3,5,78,28,45]\n",
    "for i in list2:\n",
    "    if i%3==0:\n",
    "       print(i)\n",
    "    else:\n",
    "       continue\n"
   ]
  },
  {
   "cell_type": "code",
   "execution_count": 24,
   "id": "d80d8027",
   "metadata": {},
   "outputs": [
    {
     "name": "stdout",
     "output_type": "stream",
     "text": [
      "[4, 16, 36, 64, 100, 144, 196, 256, 324, 400]\n"
     ]
    }
   ],
   "source": [
    "'''\n",
    "10.  How can you use list comprehensions in combination with conditional statements to make your code more concise? \n",
    "    -  Coding Challenge:  Write a list comprehension that generates a list of squares of all even numbers between \n",
    "    1 and 20.\n",
    "\n",
    "Ans. List Comprehension is a compact way to create lists in Python.\n",
    "     It combines a for loop and optionally an if condition in a single line.\n",
    "\n",
    "        syntax : [expression for item in iterable if condition]\n",
    "\n",
    "\n",
    "'''\n",
    "newlist=[i**2 for i in range(1,21) if i%2==0]\n",
    "print(newlist)"
   ]
  },
  {
   "cell_type": "code",
   "execution_count": null,
   "id": "bdcb2f69",
   "metadata": {},
   "outputs": [],
   "source": []
  }
 ],
 "metadata": {
  "kernelspec": {
   "display_name": "Python 3",
   "language": "python",
   "name": "python3"
  },
  "language_info": {
   "codemirror_mode": {
    "name": "ipython",
    "version": 3
   },
   "file_extension": ".py",
   "mimetype": "text/x-python",
   "name": "python",
   "nbconvert_exporter": "python",
   "pygments_lexer": "ipython3",
   "version": "3.10.6"
  }
 },
 "nbformat": 4,
 "nbformat_minor": 5
}

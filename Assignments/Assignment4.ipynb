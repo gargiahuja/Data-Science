{
 "cells": [
  {
   "cell_type": "code",
   "execution_count": null,
   "id": "16ec10d5",
   "metadata": {},
   "outputs": [
    {
     "name": "stdout",
     "output_type": "stream",
     "text": [
      "Hello gargi\n",
      "Halaluya Vidhi\n"
     ]
    }
   ],
   "source": [
    "'''\n",
    "1.  What are default arguments in Python functions, and how do they differ from required arguments? \n",
    "What happens when you pass `None` as a value to a parameter with a default argument? \n",
    "   -  Coding Challenge: Write a function `greet` that takes a name as a required argument and a greeting \n",
    "   message as an optional argument. If no greeting is provided, it should default to \"Hello\".\n",
    "\n",
    "ANS.\n",
    "DEFAULT ARGUMENTS : Agar function call karte waqt koi value na di jaye, toh default value use hoti hai\n",
    "REQUIRED ARGUMENTS : Agar HUM required argument chhod doge, toh error aayega.\n",
    "'''\n",
    "def greet(name,message=\"Halaluya\"):\n",
    "    print(message,name)\n",
    "greet(\"gargi\",\"Hello\")\n",
    "greet(\"Vidhi\")"
   ]
  },
  {
   "cell_type": "code",
   "execution_count": 29,
   "id": "49d41f3d",
   "metadata": {},
   "outputs": [
    {
     "name": "stdout",
     "output_type": "stream",
     "text": [
      "121\n",
      "-11\n"
     ]
    }
   ],
   "source": [
    "'''\n",
    "2.  Explain the concept of variable-length arguments in Python. \n",
    "How do `*args` and ` kwargs` work, and how can they be used together in a function? \n",
    "   -  Coding Challenge: Write a function `summarize` that takes any number of numerical \n",
    "   arguments and returns their sum. The function should also accept optional keyword arguments that specify whether\n",
    "   the result should be squared or negated.\n",
    "\n",
    "ANS.\n",
    "    VARIABLE - LENGTH ARGUMENTS : Kabhi-kabhi hume nahi pata hota ki function me kitne arguments aayenge.\n",
    "                              Python me hum aise cases me 'args' aur 'kwargs' ka use karte hain.\n",
    "\n",
    "    ARGS - Ye arguments ko tuple ke form me accept karta hai.\n",
    "       Jab hum *args likhte hain, toh function me multiple values aayi toh bhi error nahi aayega.\n",
    "\n",
    "    KWARGS - Ye arguments ko dictionary ke form me accept karta hai.\n",
    "         ab function me key=value format me data bhejna ho, tab use hota hai.\n",
    "\n",
    "    USED TOGETHER:\n",
    "    def function_name(arg1, *args, **kwargs):\n",
    "'''\n",
    "def summarize(*args,square=False,negate=False):\n",
    "    result = sum(args)\n",
    "    if square:\n",
    "        result = result**2\n",
    "    elif negate:\n",
    "        result = -result\n",
    "    return result\n",
    "print(summarize(2,3,6,square=True))\n",
    "print(summarize(2,3,6,negate=True))\n"
   ]
  },
  {
   "cell_type": "code",
   "execution_count": null,
   "id": "628347b1",
   "metadata": {},
   "outputs": [
    {
     "name": "stdout",
     "output_type": "stream",
     "text": [
      "[54, 39, 88, 0, 1, 2, 3, 4, 5, 6, 7, 8, 9]\n",
      "[54, 39, 88, 0, 1, 2, 3, 4, 5, 6, 7, 8, 9]\n"
     ]
    }
   ],
   "source": [
    "'''\n",
    "3.  What is the difference between pass-by-value and pass-by-reference? \n",
    "How does Python handle argument passing in functions? \n",
    "   -  Coding Challenge: Write a function that takes a list as an argument and \n",
    "   modifies it by appending a new item. Demonstrate how changes to the list inside the function affect \n",
    "   the list outside the function.\n",
    "\n",
    "ANS.\n",
    "    PASS BY VALUE: Function ko value ka copy diya jaata hai, Original variable change nahi hota.\n",
    "    PASS BY REFERENCE: Function ko original reference (address) diya jaata hai, Function ke andar changes\n",
    "    directly original variable ko \n",
    "                   affect karte hain.\n",
    "\n",
    "'''\n",
    "def inlist(lst):\n",
    "    for i in range(10):\n",
    "        lst.append(i)\n",
    "    print(lst)\n",
    "listt=[54,39,88]\n",
    "inlist(listt)\n",
    "print(listt)"
   ]
  },
  {
   "cell_type": "code",
   "execution_count": 53,
   "id": "e62544bc",
   "metadata": {},
   "outputs": [
    {
     "ename": "NameError",
     "evalue": "name 'hgh' is not defined",
     "output_type": "error",
     "traceback": [
      "\u001b[1;31m---------------------------------------------------------------------------\u001b[0m",
      "\u001b[1;31mNameError\u001b[0m                                 Traceback (most recent call last)",
      "Cell \u001b[1;32mIn[53], line 8\u001b[0m\n\u001b[0;32m      1\u001b[0m \u001b[38;5;124;03m'''\u001b[39;00m\n\u001b[0;32m      2\u001b[0m \u001b[38;5;124;03m4.  How do decorators work in Python? Explain with an example of a simple decorator that \u001b[39;00m\n\u001b[0;32m      3\u001b[0m \u001b[38;5;124;03mlogs the execution time of a function. \u001b[39;00m\n\u001b[1;32m   (...)\u001b[0m\n\u001b[0;32m      6\u001b[0m \n\u001b[0;32m      7\u001b[0m \u001b[38;5;124;03m'''\u001b[39;00m\n\u001b[1;32m----> 8\u001b[0m \u001b[43mhgh\u001b[49m\n",
      "\u001b[1;31mNameError\u001b[0m: name 'hgh' is not defined"
     ]
    }
   ],
   "source": [
    "'''\n",
    "4.  How do decorators work in Python? Explain with an example of a simple decorator that \n",
    "logs the execution time of a function. \n",
    "   -  Coding Challenge: Write a decorator `@timing` that prints the time \n",
    "        taken by a function to execute.\n",
    "\n",
    "'''\n",
    "hgh\n"
   ]
  },
  {
   "cell_type": "code",
   "execution_count": 12,
   "id": "0af13c62",
   "metadata": {},
   "outputs": [
    {
     "name": "stdout",
     "output_type": "stream",
     "text": [
      "5\n",
      "4\n",
      "3\n",
      "2\n",
      "1\n"
     ]
    }
   ],
   "source": [
    "'''\n",
    "5.  What are generators in Python, and how do they differ from regular functions in terms of \n",
    "memory usage and performance? \n",
    "   -  Coding Challenge: Write a generator function `countdown(n)` that yields \n",
    "        numbers from `n` down to 1.\n",
    "\n",
    "'''\n",
    "def countdown(n):\n",
    "    while n>0:\n",
    "        yield n\n",
    "        n-=1\n",
    "\n",
    "for num in countdown(5):\n",
    "    print(num)\n"
   ]
  },
  {
   "cell_type": "code",
   "execution_count": 54,
   "id": "c20c94dd",
   "metadata": {},
   "outputs": [
    {
     "name": "stdout",
     "output_type": "stream",
     "text": [
      "0\n"
     ]
    },
    {
     "ename": "NameError",
     "evalue": "name 'bnb' is not defined",
     "output_type": "error",
     "traceback": [
      "\u001b[1;31m---------------------------------------------------------------------------\u001b[0m",
      "\u001b[1;31mNameError\u001b[0m                                 Traceback (most recent call last)",
      "Cell \u001b[1;32mIn[54], line 16\u001b[0m\n\u001b[0;32m     14\u001b[0m \u001b[38;5;28;01mfor\u001b[39;00m j \u001b[38;5;129;01min\u001b[39;00m fibonacci():\n\u001b[0;32m     15\u001b[0m     \u001b[38;5;28mprint\u001b[39m(j)\n\u001b[1;32m---> 16\u001b[0m     \u001b[43mbnb\u001b[49m\n",
      "\u001b[1;31mNameError\u001b[0m: name 'bnb' is not defined"
     ]
    }
   ],
   "source": [
    "'''\n",
    "6.  Explain the role of the `yield` statement in Python generators. \n",
    "How does it differ from the `return` statement in regular functions? \n",
    "   -  Coding Challenge: Write a generator `fibonacci()` that yields the Fibonacci sequence indefinitely.\n",
    "\n",
    "'''\n",
    "def fibonacci():\n",
    "    n1=0\n",
    "    n2=1\n",
    "    yield n1\n",
    "    n1=n2\n",
    "    n2=n1+n2\n",
    "gen=fibonacci()\n",
    "for j in fibonacci():\n",
    "    print(j)\n",
    "    bnb"
   ]
  },
  {
   "cell_type": "code",
   "execution_count": null,
   "id": "72d81687",
   "metadata": {},
   "outputs": [
    {
     "ename": "NameError",
     "evalue": "name 'DOUBT' is not defined",
     "output_type": "error",
     "traceback": [
      "\u001b[1;31m---------------------------------------------------------------------------\u001b[0m",
      "\u001b[1;31mNameError\u001b[0m                                 Traceback (most recent call last)",
      "Cell \u001b[1;32mIn[25], line 7\u001b[0m\n\u001b[0;32m      1\u001b[0m \u001b[38;5;124;03m'''\u001b[39;00m\n\u001b[0;32m      2\u001b[0m \u001b[38;5;124;03m7.  How can you use generators to handle large datasets or streams of data efficiently? Provide an example. \u001b[39;00m\n\u001b[0;32m      3\u001b[0m \u001b[38;5;124;03m   -  Coding Challenge: Write a generator `file_reader(file_name)` \u001b[39;00m\n\u001b[0;32m      4\u001b[0m \u001b[38;5;124;03m        that reads a large text file line by line and yields each line.\u001b[39;00m\n\u001b[0;32m      5\u001b[0m \n\u001b[0;32m      6\u001b[0m \u001b[38;5;124;03m'''\u001b[39;00m\n\u001b[1;32m----> 7\u001b[0m \u001b[43mDOUBT\u001b[49m\n",
      "\u001b[1;31mNameError\u001b[0m: name 'DOUBT' is not defined"
     ]
    }
   ],
   "source": [
    "'''\n",
    "7.  How can you use generators to handle large datasets or streams of data efficiently? Provide an example. \n",
    "   -  Coding Challenge: Write a generator `file_reader(file_name)` \n",
    "        that reads a large text file line by line and yields each line.\n",
    "\n",
    "'''\n",
    "def file_reader()"
   ]
  },
  {
   "cell_type": "code",
   "execution_count": 28,
   "id": "b9826819",
   "metadata": {},
   "outputs": [
    {
     "name": "stdout",
     "output_type": "stream",
     "text": [
      "0\n",
      "1\n",
      "4\n",
      "9\n",
      "16\n",
      "25\n"
     ]
    }
   ],
   "source": [
    "'''\n",
    "8.  What are generator expressions, and how do they differ from list comprehensions? \n",
    "Provide an example where a generator expression would be more efficient than a list comprehension. \n",
    "   -  Coding Challenge: Convert the following list comprehension into a generator expression:\n",
    "     ```python\n",
    "     squares = [x **2 for x in range(1000000)]\n",
    "     ```\n",
    "\n",
    "'''\n",
    "squares = (x **2 for x in range(1000000))\n",
    "for i,val in enumerate(squares):\n",
    "    print(val)\n",
    "    if i==5:\n",
    "        break"
   ]
  },
  {
   "cell_type": "code",
   "execution_count": 44,
   "id": "343c4ef7",
   "metadata": {},
   "outputs": [
    {
     "name": "stdout",
     "output_type": "stream",
     "text": [
      "200\n",
      "[20, 60, 120]\n"
     ]
    }
   ],
   "source": [
    "'''\n",
    "9.  What are lambda functions in Python, and when should they be used over regular functions? \n",
    "What are some limitations of lambda functions? \n",
    "   -  Coding Challenge: Write a lambda function that takes two arguments and returns their product.\n",
    "   Then, use this lambda function to multiply elements of two lists pairwise.\n",
    "\n",
    "'''\n",
    "x=10\n",
    "y=20\n",
    "a=lambda x,y:x*y\n",
    "print(a(x,y))\n",
    "x1=[10,20,30]\n",
    "y1=[2,3,4]\n",
    "n=[]\n",
    "result=list(map(a,x1,y1))\n",
    "print(result)"
   ]
  },
  {
   "cell_type": "code",
   "execution_count": null,
   "id": "94cb73d2",
   "metadata": {},
   "outputs": [
    {
     "name": "stdout",
     "output_type": "stream",
     "text": [
      "['GARGI', 'VIDHI', 'KHUSHISH']\n",
      "[2, 4, 6, 8]\n",
      "362880\n"
     ]
    }
   ],
   "source": [
    "'''\n",
    "10.  How can lambda functions be used with Python's built-in functions like \n",
    "`map()`, `filter()`, and `reduce()`? Provide examples of each. \n",
    "    \n",
    "    -  Coding Challenge: Use `map()` with a lambda function to convert a list of strings to uppercase. \n",
    "     Use `filter()` with a lambda function to filter out even numbers from a list. Finally, use `reduce()`\n",
    "     with a lambda function to find the product of all numbers in a list.\n",
    "\n",
    "\n",
    "'''\n",
    "list1=[\"gargi\",\"vidhi\",\"khushish\"]\n",
    "result1=list(map(lambda i:i.upper(),list1))\n",
    "print(result1)\n",
    "\n",
    "\n",
    "list2=[1,2,3,4,5,6,7,8,9]\n",
    "result2=list(filter(lambda num:num%2==0,list2))\n",
    "print(result2)\n",
    "\n",
    "\n",
    "from functools import reduce\n",
    "list3=[1,2,3,4,5,6,7,8,9]\n",
    "result3=reduce(lambda num1,num2:num1*num2,list3)\n",
    "print(result3)"
   ]
  },
  {
   "cell_type": "code",
   "execution_count": null,
   "id": "12789bc3",
   "metadata": {},
   "outputs": [],
   "source": []
  }
 ],
 "metadata": {
  "kernelspec": {
   "display_name": "Python 3",
   "language": "python",
   "name": "python3"
  },
  "language_info": {
   "codemirror_mode": {
    "name": "ipython",
    "version": 3
   },
   "file_extension": ".py",
   "mimetype": "text/x-python",
   "name": "python",
   "nbconvert_exporter": "python",
   "pygments_lexer": "ipython3",
   "version": "3.10.6"
  }
 },
 "nbformat": 4,
 "nbformat_minor": 5
}

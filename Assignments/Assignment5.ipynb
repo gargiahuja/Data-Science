{
 "cells": [
  {
   "cell_type": "code",
   "execution_count": 1,
   "id": "0d98197c",
   "metadata": {},
   "outputs": [
    {
     "name": "stdout",
     "output_type": "stream",
     "text": [
      "titile of the book: The Secret\n",
      "author of the book: no idea!\n",
      "year published: 2006\n"
     ]
    }
   ],
   "source": [
    "'''\n",
    "1.   What is the difference between a class and an object in Python? How do they relate to each other in the \n",
    "    context of OOP?  \n",
    "   \n",
    "   -   Coding Challenge:   Define a class `Book` with attributes like `title`, `author`, and `year_published`. \n",
    "   Create an instance of the class and print out its attributes.\n",
    "\n",
    "'''\n",
    "class Book:\n",
    "    def __init__(self,titile,author,year_published):\n",
    "        self.title=titile\n",
    "        self.author=author\n",
    "        self.year_published=year_published\n",
    "    \n",
    "    def show(self):\n",
    "        print(\"titile of the book: \"+self.title)\n",
    "        print(\"author of the book: \"+self.author)\n",
    "        print(\"year published: \"+self.year_published)\n",
    "        return\n",
    "\n",
    "B=Book(\"The Secret\",\"no idea!\",\"2006\")\n",
    "B.show()"
   ]
  },
  {
   "cell_type": "code",
   "execution_count": 4,
   "id": "5c36434d",
   "metadata": {},
   "outputs": [
    {
     "data": {
      "text/plain": [
       "'Bike is moving'"
      ]
     },
     "execution_count": 4,
     "metadata": {},
     "output_type": "execute_result"
    }
   ],
   "source": [
    "'''\n",
    "2.   Explain the concept of inheritance in Python. How does it promote code reuse and what are some potential pitfalls?  \n",
    "   -   Coding Challenge:   Create a base class `Vehicle` with a method `move`. Then, create two derived classes `Car`\n",
    "     and `Bike` that inherit from `Vehicle` and override the `move` method\n",
    "\n",
    "'''\n",
    "class vehicle:\n",
    "    def move(self):\n",
    "        return \"Vehicle is moving\"\n",
    "\n",
    "class Car(vehicle):\n",
    "    def move(self):\n",
    "        return \"Car is moving\"\n",
    "\n",
    "class Bike(vehicle):\n",
    "    def move(self):\n",
    "        return \"Bike is moving\"\n",
    "\n",
    "Bike1=Bike()\n",
    "Bike1.move()\n"
   ]
  },
  {
   "cell_type": "code",
   "execution_count": 7,
   "id": "977725da",
   "metadata": {},
   "outputs": [
    {
     "name": "stdout",
     "output_type": "stream",
     "text": [
      "Airplane is moving\n"
     ]
    }
   ],
   "source": [
    "'''\n",
    "3.   What is polymorphism in Python, and how is it implemented through method overriding and method overloading?  \n",
    "   -   Coding Challenge:   Write a function `move_vehicle` that takes an object as input and calls its `move` method.\n",
    "    Create different classes (`Boat`, `Airplane`, etc.) that have their own `move` methods and pass their instances to \n",
    "    `move_vehicle`.\n",
    "\n",
    "'''\n",
    "class Boat:\n",
    "    def move(self):\n",
    "        return \"Boat is moving\"\n",
    "class Airplane:\n",
    "    def move(self):\n",
    "        return \"Airplane is moving\"\n",
    "\n",
    "A=Airplane()\n",
    "def move_vehicle(a):\n",
    "    print(a.move())\n",
    "move_vehicle(A)"
   ]
  },
  {
   "cell_type": "code",
   "execution_count": 8,
   "id": "4077d561",
   "metadata": {},
   "outputs": [
    {
     "ename": "SyntaxError",
     "evalue": "invalid syntax (2006724763.py, line 18)",
     "output_type": "error",
     "traceback": [
      "  \u001b[36mCell\u001b[39m\u001b[36m \u001b[39m\u001b[32mIn[8]\u001b[39m\u001b[32m, line 18\u001b[39m\n\u001b[31m    \u001b[39m\u001b[31mprint(Calculator.multiply(3, 4))kok\u001b[39m\n                                    ^\n\u001b[31mSyntaxError\u001b[39m\u001b[31m:\u001b[39m invalid syntax\n"
     ]
    }
   ],
   "source": [
    "'''\n",
    "4.   What are class methods and static methods in Python? How do they differ from instance methods?  \n",
    "   -   Coding Challenge:   Define a class `Calculator` with a static method `multiply(a, b)` that returns \n",
    "   the product of `a` and `b`, and a class method `from_values` that creates an instance from a list of two \n",
    "   values and returns their product.\n",
    "\n",
    "'''\n",
    "class Calculator:\n",
    "    @staticmethod\n",
    "    def multiply(a,b):\n",
    "        return a*b\n",
    "    \n",
    "    @classmethod\n",
    "    def from_values(cls,values):\n",
    "        a,b=values\n",
    "        return cls.multiply(a,b)\n",
    "\n",
    "print(Calculator.multiply(3, 4))kok\n",
    "print(Calculator.from_values([5, 6]))"
   ]
  },
  {
   "cell_type": "code",
   "execution_count": null,
   "id": "1c13ac09",
   "metadata": {},
   "outputs": [
    {
     "name": "stdout",
     "output_type": "stream",
     "text": [
      "('Gargi', 20)\n",
      "('sam', 54)\n"
     ]
    },
    {
     "ename": "AttributeError",
     "evalue": "'Person' object has no attribute '__name'",
     "output_type": "error",
     "traceback": [
      "\u001b[31m---------------------------------------------------------------------------\u001b[39m",
      "\u001b[31mAttributeError\u001b[39m                            Traceback (most recent call last)",
      "\u001b[36mCell\u001b[39m\u001b[36m \u001b[39m\u001b[32mIn[14]\u001b[39m\u001b[32m, line 22\u001b[39m\n\u001b[32m     20\u001b[39m p.change(\u001b[33m\"\u001b[39m\u001b[33msam\u001b[39m\u001b[33m\"\u001b[39m,\u001b[32m54\u001b[39m)\n\u001b[32m     21\u001b[39m \u001b[38;5;28mprint\u001b[39m(p.show())\n\u001b[32m---> \u001b[39m\u001b[32m22\u001b[39m \u001b[38;5;28mprint\u001b[39m(\u001b[43mp\u001b[49m\u001b[43m.\u001b[49m\u001b[43m__name\u001b[49m)\n",
      "\u001b[31mAttributeError\u001b[39m: 'Person' object has no attribute '__name'"
     ]
    }
   ],
   "source": [
    "'''\n",
    "5.   Explain the concept of encapsulation and how Python supports it through public, protected, \n",
    "and private attributes and methods.  \n",
    "   -   Coding Challenge:   Create a class `Person` with private attributes `name` and `age`, and \n",
    "   methods to set and get these attributes. Ensure that direct access to `name` and `age` is not \n",
    "   allowed from outside the class.\n",
    "\n",
    "'''\n",
    "class Person:\n",
    "    def __init__(self,name,age):\n",
    "        self.__name=name\n",
    "        self.__age=age\n",
    "    def change(self,name,age):\n",
    "        self.__name=name\n",
    "        self.__age=age\n",
    "    def show(self):\n",
    "        return self.__name,self.__age\n",
    "p=Person(\"Gargi\",20)\n",
    "print(p.show())\n",
    "p.change(\"sam\",54)\n",
    "print(p.show())\n",
    "print(p.__name)#private variable cannot be accessed from outside"
   ]
  },
  {
   "cell_type": "code",
   "execution_count": 16,
   "id": "a7f7b1a1",
   "metadata": {},
   "outputs": [
    {
     "name": "stdout",
     "output_type": "stream",
     "text": [
      "('laptop', 45000)\n"
     ]
    }
   ],
   "source": [
    "'''\n",
    "6.   What is the purpose of the `__init__` method in Python classes? How does it differ from other methods?  \n",
    "   -   Coding Challenge:   Write a class `Product` with an `__init__` method that initializes the product's \n",
    "   `name` and `price`. Create an instance of `Product` and print the product's details.\n",
    "\n",
    "'''\n",
    "class Product:\n",
    "    def __init__(self,name,price):\n",
    "        self.name=name\n",
    "        self.price=price\n",
    "    \n",
    "    def details(self):\n",
    "        return self.name,self.price\n",
    "    \n",
    "pro=Product(\"laptop\",45000)\n",
    "print(pro.details())"
   ]
  },
  {
   "cell_type": "code",
   "execution_count": 18,
   "id": "e86efd3f",
   "metadata": {},
   "outputs": [
    {
     "name": "stdout",
     "output_type": "stream",
     "text": [
      "SmartFridge is operating\n",
      "Appliance is operating\n",
      "SmartFridge operation complete.\n"
     ]
    }
   ],
   "source": [
    "'''\n",
    "7.   How does Python implement multiple inheritance, and what is the method resolution order (MRO)? \n",
    "How does MRO resolve conflicts in multiple inheritance?  \n",
    "   -   Coding Challenge:   Create two classes `Appliance` and `Electronic` with a method `operate()`. \n",
    "   Then, create a class `SmartFridge` that inherits from both `Appliance` and `Electronic` and overrides \n",
    "   `operate()`. Use `super()` to demonstrate MRO in `SmartFridge`.\n",
    "\n",
    "'''\n",
    "class Appliance:\n",
    "    def operate(self):\n",
    "        print(\"Appliance is operating\")\n",
    "\n",
    "class Electronic:\n",
    "    def operate(self):\n",
    "        print(\"Electronic is operating\")\n",
    "\n",
    "class SmartFridge(Appliance,Electronic):\n",
    "    def operate(self):\n",
    "        print(\"SmartFridge is operating\")\n",
    "        super().operate()  # This follows MRO\n",
    "        print(\"SmartFridge operation complete.\")\n",
    "S=SmartFridge()\n",
    "S.operate()"
   ]
  },
  {
   "cell_type": "code",
   "execution_count": 21,
   "id": "19e93d1d",
   "metadata": {},
   "outputs": [
    {
     "name": "stdout",
     "output_type": "stream",
     "text": [
      "False\n",
      "True\n"
     ]
    }
   ],
   "source": [
    "'''\n",
    "8.   What are special methods (also known as magic methods) in Python? How can they be used to customize \n",
    "the behavior of Python classes?  \n",
    "   -   Coding Challenge:   Implement the `__eq__` and `__lt__` methods in a `Book` class to compare books \n",
    "   based on their `year_published`.\n",
    "\n",
    "'''\n",
    "class Book:\n",
    "    def __init__(self,year_published):\n",
    "        self.year_published=year_published\n",
    "    def __eq__(self,other):\n",
    "        return self.year_published==other.year_published\n",
    "    def __lt__(self,other):\n",
    "        return self.year_published<other.year_published\n",
    "B1=Book(1937)\n",
    "B2=Book(2004)\n",
    "print(B1==B2)\n",
    "print(B1<B2)"
   ]
  },
  {
   "cell_type": "code",
   "execution_count": 27,
   "id": "1b714fbd",
   "metadata": {},
   "outputs": [
    {
     "name": "stdout",
     "output_type": "stream",
     "text": [
      "Car is ready to start\n",
      "Engine started\n"
     ]
    }
   ],
   "source": [
    "'''\n",
    "9.   What is the difference between composition and inheritance in OOP? When would you use composition \n",
    "instead of inheritance?  \n",
    "   -   Coding Challenge:   Create a class `Engine` and a class `Truck` that uses composition by having an \n",
    "   instance of `Engine` as an attribute of `Truck`.\n",
    "\n",
    "'''\n",
    "class Engine:\n",
    "    def start(self):\n",
    "        return \"Engine started\"\n",
    "class Truck:\n",
    "    def __init__(self):\n",
    "        self.Engine=Engine()\n",
    "    \n",
    "    def drive(self):\n",
    "        print(\"Car is ready to start\")\n",
    "        print(self.Engine.start())\n",
    "T=Truck()\n",
    "T.drive()"
   ]
  },
  {
   "cell_type": "code",
   "execution_count": 28,
   "id": "e17a31a2",
   "metadata": {},
   "outputs": [
    {
     "ename": "NameError",
     "evalue": "name 'jhjh' is not defined",
     "output_type": "error",
     "traceback": [
      "\u001b[31m---------------------------------------------------------------------------\u001b[39m",
      "\u001b[31mNameError\u001b[39m                                 Traceback (most recent call last)",
      "\u001b[36mCell\u001b[39m\u001b[36m \u001b[39m\u001b[32mIn[28]\u001b[39m\u001b[32m, line 9\u001b[39m\n\u001b[32m      1\u001b[39m \u001b[33;03m'''\u001b[39;00m\n\u001b[32m      2\u001b[39m \u001b[33;03m10.   Explain the purpose of property decorators (`@property`) in Python. How do they contribute to data\u001b[39;00m\n\u001b[32m      3\u001b[39m \u001b[33;03m encapsulation and controlled access to class attributes?  \u001b[39;00m\n\u001b[32m   (...)\u001b[39m\u001b[32m      7\u001b[39m \n\u001b[32m      8\u001b[39m \u001b[33;03m'''\u001b[39;00m\n\u001b[32m----> \u001b[39m\u001b[32m9\u001b[39m \u001b[43mjhjh\u001b[49m\n",
      "\u001b[31mNameError\u001b[39m: name 'jhjh' is not defined"
     ]
    }
   ],
   "source": [
    "'''\n",
    "10.   Explain the purpose of property decorators (`@property`) in Python. How do they contribute to data\n",
    " encapsulation and controlled access to class attributes?  \n",
    "    -   Coding Challenge:   Write a class `Circle` with attributes `radius`. Use property decorators \n",
    "    to create a `diameter` property that returns the diameter of the circle and an `area` property that \n",
    "    returns the area of the circle.\n",
    "\n",
    "'''\n",
    "jhjh"
   ]
  },
  {
   "cell_type": "code",
   "execution_count": null,
   "id": "616202d9",
   "metadata": {},
   "outputs": [],
   "source": []
  }
 ],
 "metadata": {
  "kernelspec": {
   "display_name": "Python 3",
   "language": "python",
   "name": "python3"
  },
  "language_info": {
   "codemirror_mode": {
    "name": "ipython",
    "version": 3
   },
   "file_extension": ".py",
   "mimetype": "text/x-python",
   "name": "python",
   "nbconvert_exporter": "python",
   "pygments_lexer": "ipython3",
   "version": "3.11.1"
  }
 },
 "nbformat": 4,
 "nbformat_minor": 5
}
